{
 "cells": [
  {
   "cell_type": "markdown",
   "id": "1e9a3788",
   "metadata": {
    "hide_input": false
   },
   "source": [
    "# Computing RFM Values\n",
    "\n",
    "Dividing customers into different segments based on the RFM score\n",
    "\n",
    "Logic: \n",
    "\n",
    "1. Package and Data Import \n",
    "2. Data Prep and Clean\n",
    "3. Exploratory Analysis\n",
    "4. RFM Analysis\n",
    "\n",
    "I am going to use K-means clustering following step 4 to group customer segments based on RFM results. To validate that this K-means analysis is accurate, I am going to use Silhouette Score. \n",
    "\n",
    "Reference: \"RFM Model for customer purchase behavior using K-Mean algorithm\" P.Anitha, Malini M. Patil, 2019, from Journal of King Saud University - Computer and Information Sciences\n",
    "\n",
    "**Required Inputs**\n",
    "\n",
    "InvoiceNo\t\n",
    "Quantity\n",
    "InvoiceDate\t\n",
    "UnitPrice\t\n",
    "CustomerID\n"
   ]
  },
  {
   "cell_type": "markdown",
   "id": "eb639876",
   "metadata": {},
   "source": [
    "## Import Packages and Data"
   ]
  },
  {
   "cell_type": "code",
   "execution_count": 102,
   "id": "93f2c4c8",
   "metadata": {
    "ExecuteTime": {
     "end_time": "2021-08-23T00:11:14.842490Z",
     "start_time": "2021-08-23T00:11:14.803832Z"
    },
    "code_folding": []
   },
   "outputs": [],
   "source": [
    "# essentials packages for dataframe, computation, and plotting\n",
    "import pandas as pd\n",
    "import numpy as np\n",
    "import matplotlib.pyplot as plt\n",
    "import seaborn as sns\n",
    "\n",
    "import plotly.offline as pyoff\n",
    "import plotly.graph_objs as go\n",
    "\n",
    "# machine learning, predictive analysis\n",
    "from scipy import stats\n",
    "from sklearn.preprocessing import StandardScaler\n",
    "from sklearn.manifold import TSNE\n",
    "from sklearn.cluster import KMeans\n",
    "\n",
    "import feature_engine\n",
    "from feature_engine.outliers import Winsorizer\n",
    "\n",
    "# datatime\n",
    "import datetime as dt\n",
    "\n",
    "# warnings\n",
    "import warnings\n",
    "warnings.filterwarnings(\"ignore\")"
   ]
  },
  {
   "cell_type": "markdown",
   "id": "656e5984",
   "metadata": {},
   "source": [
    "### Data Import"
   ]
  },
  {
   "cell_type": "code",
   "execution_count": 103,
   "id": "8d2944a1",
   "metadata": {
    "ExecuteTime": {
     "end_time": "2021-08-23T00:11:15.863651Z",
     "start_time": "2021-08-23T00:11:14.846803Z"
    }
   },
   "outputs": [
    {
     "data": {
      "text/html": [
       "<div>\n",
       "<style scoped>\n",
       "    .dataframe tbody tr th:only-of-type {\n",
       "        vertical-align: middle;\n",
       "    }\n",
       "\n",
       "    .dataframe tbody tr th {\n",
       "        vertical-align: top;\n",
       "    }\n",
       "\n",
       "    .dataframe thead th {\n",
       "        text-align: right;\n",
       "    }\n",
       "</style>\n",
       "<table border=\"1\" class=\"dataframe\">\n",
       "  <thead>\n",
       "    <tr style=\"text-align: right;\">\n",
       "      <th></th>\n",
       "      <th>InvoiceNo</th>\n",
       "      <th>StockCode</th>\n",
       "      <th>Description</th>\n",
       "      <th>Quantity</th>\n",
       "      <th>InvoiceDate</th>\n",
       "      <th>UnitPrice</th>\n",
       "      <th>CustomerID</th>\n",
       "      <th>Country</th>\n",
       "    </tr>\n",
       "  </thead>\n",
       "  <tbody>\n",
       "    <tr>\n",
       "      <th>0</th>\n",
       "      <td>536365</td>\n",
       "      <td>85123A</td>\n",
       "      <td>WHITE HANGING HEART T-LIGHT HOLDER</td>\n",
       "      <td>6</td>\n",
       "      <td>12/1/10 8:26</td>\n",
       "      <td>2.55</td>\n",
       "      <td>17850.0</td>\n",
       "      <td>United Kingdom</td>\n",
       "    </tr>\n",
       "    <tr>\n",
       "      <th>1</th>\n",
       "      <td>536365</td>\n",
       "      <td>71053</td>\n",
       "      <td>WHITE METAL LANTERN</td>\n",
       "      <td>6</td>\n",
       "      <td>12/1/10 8:26</td>\n",
       "      <td>3.39</td>\n",
       "      <td>17850.0</td>\n",
       "      <td>United Kingdom</td>\n",
       "    </tr>\n",
       "    <tr>\n",
       "      <th>2</th>\n",
       "      <td>536365</td>\n",
       "      <td>84406B</td>\n",
       "      <td>CREAM CUPID HEARTS COAT HANGER</td>\n",
       "      <td>8</td>\n",
       "      <td>12/1/10 8:26</td>\n",
       "      <td>2.75</td>\n",
       "      <td>17850.0</td>\n",
       "      <td>United Kingdom</td>\n",
       "    </tr>\n",
       "    <tr>\n",
       "      <th>3</th>\n",
       "      <td>536365</td>\n",
       "      <td>84029G</td>\n",
       "      <td>KNITTED UNION FLAG HOT WATER BOTTLE</td>\n",
       "      <td>6</td>\n",
       "      <td>12/1/10 8:26</td>\n",
       "      <td>3.39</td>\n",
       "      <td>17850.0</td>\n",
       "      <td>United Kingdom</td>\n",
       "    </tr>\n",
       "    <tr>\n",
       "      <th>4</th>\n",
       "      <td>536365</td>\n",
       "      <td>84029E</td>\n",
       "      <td>RED WOOLLY HOTTIE WHITE HEART.</td>\n",
       "      <td>6</td>\n",
       "      <td>12/1/10 8:26</td>\n",
       "      <td>3.39</td>\n",
       "      <td>17850.0</td>\n",
       "      <td>United Kingdom</td>\n",
       "    </tr>\n",
       "  </tbody>\n",
       "</table>\n",
       "</div>"
      ],
      "text/plain": [
       "  InvoiceNo StockCode                          Description  Quantity  \\\n",
       "0    536365    85123A   WHITE HANGING HEART T-LIGHT HOLDER         6   \n",
       "1    536365     71053                  WHITE METAL LANTERN         6   \n",
       "2    536365    84406B       CREAM CUPID HEARTS COAT HANGER         8   \n",
       "3    536365    84029G  KNITTED UNION FLAG HOT WATER BOTTLE         6   \n",
       "4    536365    84029E       RED WOOLLY HOTTIE WHITE HEART.         6   \n",
       "\n",
       "    InvoiceDate  UnitPrice  CustomerID         Country  \n",
       "0  12/1/10 8:26       2.55     17850.0  United Kingdom  \n",
       "1  12/1/10 8:26       3.39     17850.0  United Kingdom  \n",
       "2  12/1/10 8:26       2.75     17850.0  United Kingdom  \n",
       "3  12/1/10 8:26       3.39     17850.0  United Kingdom  \n",
       "4  12/1/10 8:26       3.39     17850.0  United Kingdom  "
      ]
     },
     "execution_count": 103,
     "metadata": {},
     "output_type": "execute_result"
    }
   ],
   "source": [
    "df = pd.read_csv('Online Retail.csv', encoding='utf-8-sig')\n",
    "df.head()\n",
    "#df.tail()"
   ]
  },
  {
   "cell_type": "code",
   "execution_count": 104,
   "id": "d3d4249e",
   "metadata": {
    "ExecuteTime": {
     "end_time": "2021-08-23T00:11:15.874405Z",
     "start_time": "2021-08-23T00:11:15.867085Z"
    }
   },
   "outputs": [
    {
     "data": {
      "text/plain": [
       "(541909, 8)"
      ]
     },
     "execution_count": 104,
     "metadata": {},
     "output_type": "execute_result"
    }
   ],
   "source": [
    "df.shape"
   ]
  },
  {
   "cell_type": "markdown",
   "id": "2913a360",
   "metadata": {},
   "source": [
    "### Data Observation"
   ]
  },
  {
   "cell_type": "code",
   "execution_count": 105,
   "id": "dd96511a",
   "metadata": {
    "ExecuteTime": {
     "end_time": "2021-08-23T00:11:16.432853Z",
     "start_time": "2021-08-23T00:11:15.878408Z"
    },
    "code_folding": []
   },
   "outputs": [
    {
     "name": "stdout",
     "output_type": "stream",
     "text": [
      "Data shape: (541909, 8)\n",
      "___________________________\n",
      "Data types:\n",
      "object     5\n",
      "float64    2\n",
      "int64      1\n",
      "Name: types, dtype: int64\n",
      "___________________________\n"
     ]
    },
    {
     "data": {
      "text/html": [
       "<div>\n",
       "<style scoped>\n",
       "    .dataframe tbody tr th:only-of-type {\n",
       "        vertical-align: middle;\n",
       "    }\n",
       "\n",
       "    .dataframe tbody tr th {\n",
       "        vertical-align: top;\n",
       "    }\n",
       "\n",
       "    .dataframe thead th {\n",
       "        text-align: right;\n",
       "    }\n",
       "</style>\n",
       "<table border=\"1\" class=\"dataframe\">\n",
       "  <thead>\n",
       "    <tr style=\"text-align: right;\">\n",
       "      <th></th>\n",
       "      <th>types</th>\n",
       "      <th>counts</th>\n",
       "      <th>uniques</th>\n",
       "      <th>nulls</th>\n",
       "      <th>min</th>\n",
       "    </tr>\n",
       "  </thead>\n",
       "  <tbody>\n",
       "    <tr>\n",
       "      <th>CustomerID</th>\n",
       "      <td>float64</td>\n",
       "      <td>406829</td>\n",
       "      <td>4373</td>\n",
       "      <td>135080</td>\n",
       "      <td>12346</td>\n",
       "    </tr>\n",
       "    <tr>\n",
       "      <th>Description</th>\n",
       "      <td>object</td>\n",
       "      <td>540455</td>\n",
       "      <td>4224</td>\n",
       "      <td>1454</td>\n",
       "      <td>NaN</td>\n",
       "    </tr>\n",
       "    <tr>\n",
       "      <th>Country</th>\n",
       "      <td>object</td>\n",
       "      <td>541909</td>\n",
       "      <td>38</td>\n",
       "      <td>0</td>\n",
       "      <td>Australia</td>\n",
       "    </tr>\n",
       "    <tr>\n",
       "      <th>InvoiceDate</th>\n",
       "      <td>object</td>\n",
       "      <td>541909</td>\n",
       "      <td>23260</td>\n",
       "      <td>0</td>\n",
       "      <td>1/10/11 10:04</td>\n",
       "    </tr>\n",
       "    <tr>\n",
       "      <th>InvoiceNo</th>\n",
       "      <td>object</td>\n",
       "      <td>541909</td>\n",
       "      <td>25900</td>\n",
       "      <td>0</td>\n",
       "      <td>536365</td>\n",
       "    </tr>\n",
       "    <tr>\n",
       "      <th>Quantity</th>\n",
       "      <td>int64</td>\n",
       "      <td>541909</td>\n",
       "      <td>722</td>\n",
       "      <td>0</td>\n",
       "      <td>-80995</td>\n",
       "    </tr>\n",
       "    <tr>\n",
       "      <th>StockCode</th>\n",
       "      <td>object</td>\n",
       "      <td>541909</td>\n",
       "      <td>4070</td>\n",
       "      <td>0</td>\n",
       "      <td>10002</td>\n",
       "    </tr>\n",
       "    <tr>\n",
       "      <th>UnitPrice</th>\n",
       "      <td>float64</td>\n",
       "      <td>541909</td>\n",
       "      <td>1630</td>\n",
       "      <td>0</td>\n",
       "      <td>-11062.1</td>\n",
       "    </tr>\n",
       "  </tbody>\n",
       "</table>\n",
       "</div>"
      ],
      "text/plain": [
       "               types  counts  uniques   nulls            min\n",
       "CustomerID   float64  406829     4373  135080          12346\n",
       "Description   object  540455     4224    1454            NaN\n",
       "Country       object  541909       38       0      Australia\n",
       "InvoiceDate   object  541909    23260       0  1/10/11 10:04\n",
       "InvoiceNo     object  541909    25900       0         536365\n",
       "Quantity       int64  541909      722       0         -80995\n",
       "StockCode     object  541909     4070       0          10002\n",
       "UnitPrice    float64  541909     1630       0       -11062.1"
      ]
     },
     "metadata": {},
     "output_type": "display_data"
    }
   ],
   "source": [
    "# creating a dataframe to describe the data and to sort data based on data shape\n",
    "\n",
    "def summary(df, pred=None):\n",
    "  obs = df.shape[0]\n",
    "  types = df.dtypes\n",
    "  counts = df.apply(lambda x: x.count())\n",
    "  min = df.min()\n",
    "  uniques = df.apply(lambda x: x.unique().shape[0])\n",
    "  nulls = df.apply(lambda x: x.isnull().sum())\n",
    "  print('Data shape:', df.shape)\n",
    "\n",
    "  if pred is None:\n",
    "        cols = ['types', 'counts', 'uniques', 'nulls', 'min']\n",
    "        str = pd.concat([types, counts, uniques, nulls, min], axis = 1, sort=True)\n",
    "\n",
    "  str.columns = cols\n",
    "  dtypes = str.types.value_counts()\n",
    "  print('___________________________\\nData types:')\n",
    "  print(str.types.value_counts())\n",
    "  print('___________________________')\n",
    "  return str\n",
    "\n",
    "details = summary(df)\n",
    "display(details.sort_values(by='nulls', ascending=False))"
   ]
  },
  {
   "cell_type": "markdown",
   "id": "32db1a9a",
   "metadata": {},
   "source": [
    "**OBSERVATION**\n",
    "\n",
    "Based on this summary of the data shape, the following cleaning steps need to be done:\n",
    "\n",
    "1. Drop all Null records, K-means cannot process missing values\n",
    "2. Remove all negative Quantity and UnitPrice data, these data do not represent actually sales\n",
    "3. Invoice date should be datetime instead of object\n"
   ]
  },
  {
   "cell_type": "code",
   "execution_count": 106,
   "id": "a8fd90d5",
   "metadata": {
    "ExecuteTime": {
     "end_time": "2021-08-23T00:11:16.644958Z",
     "start_time": "2021-08-23T00:11:16.435197Z"
    }
   },
   "outputs": [
    {
     "data": {
      "text/html": [
       "<div>\n",
       "<style scoped>\n",
       "    .dataframe tbody tr th:only-of-type {\n",
       "        vertical-align: middle;\n",
       "    }\n",
       "\n",
       "    .dataframe tbody tr th {\n",
       "        vertical-align: top;\n",
       "    }\n",
       "\n",
       "    .dataframe thead th {\n",
       "        text-align: right;\n",
       "    }\n",
       "</style>\n",
       "<table border=\"1\" class=\"dataframe\">\n",
       "  <thead>\n",
       "    <tr style=\"text-align: right;\">\n",
       "      <th></th>\n",
       "      <th>Quantity</th>\n",
       "      <th>UnitPrice</th>\n",
       "      <th>CustomerID</th>\n",
       "    </tr>\n",
       "  </thead>\n",
       "  <tbody>\n",
       "    <tr>\n",
       "      <th>count</th>\n",
       "      <td>541909.000000</td>\n",
       "      <td>541909.000000</td>\n",
       "      <td>406829.000000</td>\n",
       "    </tr>\n",
       "    <tr>\n",
       "      <th>mean</th>\n",
       "      <td>9.552250</td>\n",
       "      <td>4.611114</td>\n",
       "      <td>15287.690570</td>\n",
       "    </tr>\n",
       "    <tr>\n",
       "      <th>std</th>\n",
       "      <td>218.081158</td>\n",
       "      <td>96.759853</td>\n",
       "      <td>1713.600303</td>\n",
       "    </tr>\n",
       "    <tr>\n",
       "      <th>min</th>\n",
       "      <td>-80995.000000</td>\n",
       "      <td>-11062.060000</td>\n",
       "      <td>12346.000000</td>\n",
       "    </tr>\n",
       "    <tr>\n",
       "      <th>25%</th>\n",
       "      <td>1.000000</td>\n",
       "      <td>1.250000</td>\n",
       "      <td>13953.000000</td>\n",
       "    </tr>\n",
       "    <tr>\n",
       "      <th>50%</th>\n",
       "      <td>3.000000</td>\n",
       "      <td>2.080000</td>\n",
       "      <td>15152.000000</td>\n",
       "    </tr>\n",
       "    <tr>\n",
       "      <th>75%</th>\n",
       "      <td>10.000000</td>\n",
       "      <td>4.130000</td>\n",
       "      <td>16791.000000</td>\n",
       "    </tr>\n",
       "    <tr>\n",
       "      <th>max</th>\n",
       "      <td>80995.000000</td>\n",
       "      <td>38970.000000</td>\n",
       "      <td>18287.000000</td>\n",
       "    </tr>\n",
       "  </tbody>\n",
       "</table>\n",
       "</div>"
      ],
      "text/plain": [
       "            Quantity      UnitPrice     CustomerID\n",
       "count  541909.000000  541909.000000  406829.000000\n",
       "mean        9.552250       4.611114   15287.690570\n",
       "std       218.081158      96.759853    1713.600303\n",
       "min    -80995.000000  -11062.060000   12346.000000\n",
       "25%         1.000000       1.250000   13953.000000\n",
       "50%         3.000000       2.080000   15152.000000\n",
       "75%        10.000000       4.130000   16791.000000\n",
       "max     80995.000000   38970.000000   18287.000000"
      ]
     },
     "execution_count": 106,
     "metadata": {},
     "output_type": "execute_result"
    }
   ],
   "source": [
    "df.describe()"
   ]
  },
  {
   "cell_type": "code",
   "execution_count": 107,
   "id": "568bcfd3",
   "metadata": {
    "ExecuteTime": {
     "end_time": "2021-08-23T00:11:16.674411Z",
     "start_time": "2021-08-23T00:11:16.659432Z"
    }
   },
   "outputs": [
    {
     "data": {
      "text/html": [
       "<div>\n",
       "<style scoped>\n",
       "    .dataframe tbody tr th:only-of-type {\n",
       "        vertical-align: middle;\n",
       "    }\n",
       "\n",
       "    .dataframe tbody tr th {\n",
       "        vertical-align: top;\n",
       "    }\n",
       "\n",
       "    .dataframe thead th {\n",
       "        text-align: right;\n",
       "    }\n",
       "</style>\n",
       "<table border=\"1\" class=\"dataframe\">\n",
       "  <thead>\n",
       "    <tr style=\"text-align: right;\">\n",
       "      <th></th>\n",
       "      <th>InvoiceNo</th>\n",
       "      <th>StockCode</th>\n",
       "      <th>Description</th>\n",
       "      <th>Quantity</th>\n",
       "      <th>InvoiceDate</th>\n",
       "      <th>UnitPrice</th>\n",
       "      <th>CustomerID</th>\n",
       "      <th>Country</th>\n",
       "    </tr>\n",
       "  </thead>\n",
       "  <tbody>\n",
       "    <tr>\n",
       "      <th>299983</th>\n",
       "      <td>A563186</td>\n",
       "      <td>B</td>\n",
       "      <td>Adjust bad debt</td>\n",
       "      <td>1</td>\n",
       "      <td>8/12/11 14:51</td>\n",
       "      <td>-11062.06</td>\n",
       "      <td>NaN</td>\n",
       "      <td>United Kingdom</td>\n",
       "    </tr>\n",
       "    <tr>\n",
       "      <th>299984</th>\n",
       "      <td>A563187</td>\n",
       "      <td>B</td>\n",
       "      <td>Adjust bad debt</td>\n",
       "      <td>1</td>\n",
       "      <td>8/12/11 14:52</td>\n",
       "      <td>-11062.06</td>\n",
       "      <td>NaN</td>\n",
       "      <td>United Kingdom</td>\n",
       "    </tr>\n",
       "  </tbody>\n",
       "</table>\n",
       "</div>"
      ],
      "text/plain": [
       "       InvoiceNo StockCode      Description  Quantity    InvoiceDate  \\\n",
       "299983   A563186         B  Adjust bad debt         1  8/12/11 14:51   \n",
       "299984   A563187         B  Adjust bad debt         1  8/12/11 14:52   \n",
       "\n",
       "        UnitPrice  CustomerID         Country  \n",
       "299983  -11062.06         NaN  United Kingdom  \n",
       "299984  -11062.06         NaN  United Kingdom  "
      ]
     },
     "execution_count": 107,
     "metadata": {},
     "output_type": "execute_result"
    }
   ],
   "source": [
    "# observing negative UnitPrice and Quantity data\n",
    "\n",
    "df.loc[(df.UnitPrice<0)]"
   ]
  },
  {
   "cell_type": "code",
   "execution_count": 108,
   "id": "cc3e0b52",
   "metadata": {
    "ExecuteTime": {
     "end_time": "2021-08-23T00:11:16.696429Z",
     "start_time": "2021-08-23T00:11:16.676381Z"
    }
   },
   "outputs": [
    {
     "data": {
      "text/html": [
       "<div>\n",
       "<style scoped>\n",
       "    .dataframe tbody tr th:only-of-type {\n",
       "        vertical-align: middle;\n",
       "    }\n",
       "\n",
       "    .dataframe tbody tr th {\n",
       "        vertical-align: top;\n",
       "    }\n",
       "\n",
       "    .dataframe thead th {\n",
       "        text-align: right;\n",
       "    }\n",
       "</style>\n",
       "<table border=\"1\" class=\"dataframe\">\n",
       "  <thead>\n",
       "    <tr style=\"text-align: right;\">\n",
       "      <th></th>\n",
       "      <th>InvoiceNo</th>\n",
       "      <th>StockCode</th>\n",
       "      <th>Description</th>\n",
       "      <th>Quantity</th>\n",
       "      <th>InvoiceDate</th>\n",
       "      <th>UnitPrice</th>\n",
       "      <th>CustomerID</th>\n",
       "      <th>Country</th>\n",
       "    </tr>\n",
       "  </thead>\n",
       "  <tbody>\n",
       "    <tr>\n",
       "      <th>141</th>\n",
       "      <td>C536379</td>\n",
       "      <td>D</td>\n",
       "      <td>Discount</td>\n",
       "      <td>-1</td>\n",
       "      <td>12/1/10 9:41</td>\n",
       "      <td>27.50</td>\n",
       "      <td>14527.0</td>\n",
       "      <td>United Kingdom</td>\n",
       "    </tr>\n",
       "    <tr>\n",
       "      <th>154</th>\n",
       "      <td>C536383</td>\n",
       "      <td>35004C</td>\n",
       "      <td>SET OF 3 COLOURED  FLYING DUCKS</td>\n",
       "      <td>-1</td>\n",
       "      <td>12/1/10 9:49</td>\n",
       "      <td>4.65</td>\n",
       "      <td>15311.0</td>\n",
       "      <td>United Kingdom</td>\n",
       "    </tr>\n",
       "    <tr>\n",
       "      <th>235</th>\n",
       "      <td>C536391</td>\n",
       "      <td>22556</td>\n",
       "      <td>PLASTERS IN TIN CIRCUS PARADE</td>\n",
       "      <td>-12</td>\n",
       "      <td>12/1/10 10:24</td>\n",
       "      <td>1.65</td>\n",
       "      <td>17548.0</td>\n",
       "      <td>United Kingdom</td>\n",
       "    </tr>\n",
       "    <tr>\n",
       "      <th>236</th>\n",
       "      <td>C536391</td>\n",
       "      <td>21984</td>\n",
       "      <td>PACK OF 12 PINK PAISLEY TISSUES</td>\n",
       "      <td>-24</td>\n",
       "      <td>12/1/10 10:24</td>\n",
       "      <td>0.29</td>\n",
       "      <td>17548.0</td>\n",
       "      <td>United Kingdom</td>\n",
       "    </tr>\n",
       "    <tr>\n",
       "      <th>237</th>\n",
       "      <td>C536391</td>\n",
       "      <td>21983</td>\n",
       "      <td>PACK OF 12 BLUE PAISLEY TISSUES</td>\n",
       "      <td>-24</td>\n",
       "      <td>12/1/10 10:24</td>\n",
       "      <td>0.29</td>\n",
       "      <td>17548.0</td>\n",
       "      <td>United Kingdom</td>\n",
       "    </tr>\n",
       "    <tr>\n",
       "      <th>...</th>\n",
       "      <td>...</td>\n",
       "      <td>...</td>\n",
       "      <td>...</td>\n",
       "      <td>...</td>\n",
       "      <td>...</td>\n",
       "      <td>...</td>\n",
       "      <td>...</td>\n",
       "      <td>...</td>\n",
       "    </tr>\n",
       "    <tr>\n",
       "      <th>540449</th>\n",
       "      <td>C581490</td>\n",
       "      <td>23144</td>\n",
       "      <td>ZINC T-LIGHT HOLDER STARS SMALL</td>\n",
       "      <td>-11</td>\n",
       "      <td>12/9/11 9:57</td>\n",
       "      <td>0.83</td>\n",
       "      <td>14397.0</td>\n",
       "      <td>United Kingdom</td>\n",
       "    </tr>\n",
       "    <tr>\n",
       "      <th>541541</th>\n",
       "      <td>C581499</td>\n",
       "      <td>M</td>\n",
       "      <td>Manual</td>\n",
       "      <td>-1</td>\n",
       "      <td>12/9/11 10:28</td>\n",
       "      <td>224.69</td>\n",
       "      <td>15498.0</td>\n",
       "      <td>United Kingdom</td>\n",
       "    </tr>\n",
       "    <tr>\n",
       "      <th>541715</th>\n",
       "      <td>C581568</td>\n",
       "      <td>21258</td>\n",
       "      <td>VICTORIAN SEWING BOX LARGE</td>\n",
       "      <td>-5</td>\n",
       "      <td>12/9/11 11:57</td>\n",
       "      <td>10.95</td>\n",
       "      <td>15311.0</td>\n",
       "      <td>United Kingdom</td>\n",
       "    </tr>\n",
       "    <tr>\n",
       "      <th>541716</th>\n",
       "      <td>C581569</td>\n",
       "      <td>84978</td>\n",
       "      <td>HANGING HEART JAR T-LIGHT HOLDER</td>\n",
       "      <td>-1</td>\n",
       "      <td>12/9/11 11:58</td>\n",
       "      <td>1.25</td>\n",
       "      <td>17315.0</td>\n",
       "      <td>United Kingdom</td>\n",
       "    </tr>\n",
       "    <tr>\n",
       "      <th>541717</th>\n",
       "      <td>C581569</td>\n",
       "      <td>20979</td>\n",
       "      <td>36 PENCILS TUBE RED RETROSPOT</td>\n",
       "      <td>-5</td>\n",
       "      <td>12/9/11 11:58</td>\n",
       "      <td>1.25</td>\n",
       "      <td>17315.0</td>\n",
       "      <td>United Kingdom</td>\n",
       "    </tr>\n",
       "  </tbody>\n",
       "</table>\n",
       "<p>10624 rows × 8 columns</p>\n",
       "</div>"
      ],
      "text/plain": [
       "       InvoiceNo StockCode                       Description  Quantity  \\\n",
       "141      C536379         D                          Discount        -1   \n",
       "154      C536383    35004C   SET OF 3 COLOURED  FLYING DUCKS        -1   \n",
       "235      C536391     22556    PLASTERS IN TIN CIRCUS PARADE        -12   \n",
       "236      C536391     21984  PACK OF 12 PINK PAISLEY TISSUES        -24   \n",
       "237      C536391     21983  PACK OF 12 BLUE PAISLEY TISSUES        -24   \n",
       "...          ...       ...                               ...       ...   \n",
       "540449   C581490     23144   ZINC T-LIGHT HOLDER STARS SMALL       -11   \n",
       "541541   C581499         M                            Manual        -1   \n",
       "541715   C581568     21258        VICTORIAN SEWING BOX LARGE        -5   \n",
       "541716   C581569     84978  HANGING HEART JAR T-LIGHT HOLDER        -1   \n",
       "541717   C581569     20979     36 PENCILS TUBE RED RETROSPOT        -5   \n",
       "\n",
       "          InvoiceDate  UnitPrice  CustomerID         Country  \n",
       "141      12/1/10 9:41      27.50     14527.0  United Kingdom  \n",
       "154      12/1/10 9:49       4.65     15311.0  United Kingdom  \n",
       "235     12/1/10 10:24       1.65     17548.0  United Kingdom  \n",
       "236     12/1/10 10:24       0.29     17548.0  United Kingdom  \n",
       "237     12/1/10 10:24       0.29     17548.0  United Kingdom  \n",
       "...               ...        ...         ...             ...  \n",
       "540449   12/9/11 9:57       0.83     14397.0  United Kingdom  \n",
       "541541  12/9/11 10:28     224.69     15498.0  United Kingdom  \n",
       "541715  12/9/11 11:57      10.95     15311.0  United Kingdom  \n",
       "541716  12/9/11 11:58       1.25     17315.0  United Kingdom  \n",
       "541717  12/9/11 11:58       1.25     17315.0  United Kingdom  \n",
       "\n",
       "[10624 rows x 8 columns]"
      ]
     },
     "execution_count": 108,
     "metadata": {},
     "output_type": "execute_result"
    }
   ],
   "source": [
    "df.loc[(df.Quantity<0)]"
   ]
  },
  {
   "cell_type": "markdown",
   "id": "3f34cabb",
   "metadata": {},
   "source": [
    "**OBSERVATION**\n",
    "\n",
    "There are negative values for Unitprice to \"Adjust bad debt\" and negative Quantity could represent cancelled/returned orders. I am going to remove these values as they do not represent actual sales. "
   ]
  },
  {
   "cell_type": "markdown",
   "id": "5ef46aa6",
   "metadata": {},
   "source": [
    "## Data Clean"
   ]
  },
  {
   "cell_type": "markdown",
   "id": "6b9312ad",
   "metadata": {},
   "source": [
    "### Remove Nulls"
   ]
  },
  {
   "cell_type": "code",
   "execution_count": 109,
   "id": "03d716ee",
   "metadata": {
    "ExecuteTime": {
     "end_time": "2021-08-23T00:11:16.820292Z",
     "start_time": "2021-08-23T00:11:16.700084Z"
    }
   },
   "outputs": [
    {
     "data": {
      "text/plain": [
       "InvoiceNo       0.000000\n",
       "StockCode       0.000000\n",
       "Description     0.268311\n",
       "Quantity        0.000000\n",
       "InvoiceDate     0.000000\n",
       "UnitPrice       0.000000\n",
       "CustomerID     24.926694\n",
       "Country         0.000000\n",
       "dtype: float64"
      ]
     },
     "execution_count": 109,
     "metadata": {},
     "output_type": "execute_result"
    }
   ],
   "source": [
    "# percentage of null vaues in the dataframe\n",
    "df.isnull().mean()*100"
   ]
  },
  {
   "cell_type": "markdown",
   "id": "1da8c7ee",
   "metadata": {},
   "source": [
    "25% null values, and they all come from CustomerID. With Windsor data, I would attempt to fill in any missing values if possible. If not, these need to be removed."
   ]
  },
  {
   "cell_type": "code",
   "execution_count": 110,
   "id": "f544d2de",
   "metadata": {
    "ExecuteTime": {
     "end_time": "2021-08-23T00:11:16.955871Z",
     "start_time": "2021-08-23T00:11:16.826967Z"
    }
   },
   "outputs": [
    {
     "data": {
      "text/plain": [
       "InvoiceNo      0.0\n",
       "StockCode      0.0\n",
       "Description    0.0\n",
       "Quantity       0.0\n",
       "InvoiceDate    0.0\n",
       "UnitPrice      0.0\n",
       "CustomerID     0.0\n",
       "Country        0.0\n",
       "dtype: float64"
      ]
     },
     "execution_count": 110,
     "metadata": {},
     "output_type": "execute_result"
    }
   ],
   "source": [
    "# removing nulls\n",
    "df = df[pd.notnull(df['CustomerID'])]\n",
    "df.isnull().mean()"
   ]
  },
  {
   "cell_type": "markdown",
   "id": "60ab39eb",
   "metadata": {},
   "source": [
    "### Remove negative values"
   ]
  },
  {
   "cell_type": "code",
   "execution_count": 111,
   "id": "138ef4f0",
   "metadata": {
    "ExecuteTime": {
     "end_time": "2021-08-23T00:11:17.086754Z",
     "start_time": "2021-08-23T00:11:16.958963Z"
    }
   },
   "outputs": [
    {
     "data": {
      "text/html": [
       "<div>\n",
       "<style scoped>\n",
       "    .dataframe tbody tr th:only-of-type {\n",
       "        vertical-align: middle;\n",
       "    }\n",
       "\n",
       "    .dataframe tbody tr th {\n",
       "        vertical-align: top;\n",
       "    }\n",
       "\n",
       "    .dataframe thead th {\n",
       "        text-align: right;\n",
       "    }\n",
       "</style>\n",
       "<table border=\"1\" class=\"dataframe\">\n",
       "  <thead>\n",
       "    <tr style=\"text-align: right;\">\n",
       "      <th></th>\n",
       "      <th>Quantity</th>\n",
       "      <th>UnitPrice</th>\n",
       "      <th>CustomerID</th>\n",
       "    </tr>\n",
       "  </thead>\n",
       "  <tbody>\n",
       "    <tr>\n",
       "      <th>count</th>\n",
       "      <td>397884.000000</td>\n",
       "      <td>397884.000000</td>\n",
       "      <td>397884.000000</td>\n",
       "    </tr>\n",
       "    <tr>\n",
       "      <th>mean</th>\n",
       "      <td>12.988238</td>\n",
       "      <td>3.116488</td>\n",
       "      <td>15294.423453</td>\n",
       "    </tr>\n",
       "    <tr>\n",
       "      <th>std</th>\n",
       "      <td>179.331775</td>\n",
       "      <td>22.097877</td>\n",
       "      <td>1713.141560</td>\n",
       "    </tr>\n",
       "    <tr>\n",
       "      <th>min</th>\n",
       "      <td>1.000000</td>\n",
       "      <td>0.001000</td>\n",
       "      <td>12346.000000</td>\n",
       "    </tr>\n",
       "    <tr>\n",
       "      <th>25%</th>\n",
       "      <td>2.000000</td>\n",
       "      <td>1.250000</td>\n",
       "      <td>13969.000000</td>\n",
       "    </tr>\n",
       "    <tr>\n",
       "      <th>50%</th>\n",
       "      <td>6.000000</td>\n",
       "      <td>1.950000</td>\n",
       "      <td>15159.000000</td>\n",
       "    </tr>\n",
       "    <tr>\n",
       "      <th>75%</th>\n",
       "      <td>12.000000</td>\n",
       "      <td>3.750000</td>\n",
       "      <td>16795.000000</td>\n",
       "    </tr>\n",
       "    <tr>\n",
       "      <th>max</th>\n",
       "      <td>80995.000000</td>\n",
       "      <td>8142.750000</td>\n",
       "      <td>18287.000000</td>\n",
       "    </tr>\n",
       "  </tbody>\n",
       "</table>\n",
       "</div>"
      ],
      "text/plain": [
       "            Quantity      UnitPrice     CustomerID\n",
       "count  397884.000000  397884.000000  397884.000000\n",
       "mean       12.988238       3.116488   15294.423453\n",
       "std       179.331775      22.097877    1713.141560\n",
       "min         1.000000       0.001000   12346.000000\n",
       "25%         2.000000       1.250000   13969.000000\n",
       "50%         6.000000       1.950000   15159.000000\n",
       "75%        12.000000       3.750000   16795.000000\n",
       "max     80995.000000    8142.750000   18287.000000"
      ]
     },
     "execution_count": 111,
     "metadata": {},
     "output_type": "execute_result"
    }
   ],
   "source": [
    "df = df[df.Quantity > 0]\n",
    "df = df[df.UnitPrice > 0]\n",
    "df.describe()"
   ]
  },
  {
   "cell_type": "markdown",
   "id": "c684221b",
   "metadata": {},
   "source": [
    "### Convert InvoiceDate date type to Datetime"
   ]
  },
  {
   "cell_type": "code",
   "execution_count": 112,
   "id": "2a7b7c23",
   "metadata": {
    "ExecuteTime": {
     "end_time": "2021-08-23T00:11:22.172290Z",
     "start_time": "2021-08-23T00:11:17.089452Z"
    }
   },
   "outputs": [
    {
     "name": "stdout",
     "output_type": "stream",
     "text": [
      "<class 'pandas.core.frame.DataFrame'>\n",
      "Int64Index: 397884 entries, 0 to 541908\n",
      "Data columns (total 10 columns):\n",
      " #   Column            Non-Null Count   Dtype         \n",
      "---  ------            --------------   -----         \n",
      " 0   InvoiceNo         397884 non-null  object        \n",
      " 1   StockCode         397884 non-null  object        \n",
      " 2   Description       397884 non-null  object        \n",
      " 3   Quantity          397884 non-null  int64         \n",
      " 4   InvoiceDate       397884 non-null  datetime64[ns]\n",
      " 5   UnitPrice         397884 non-null  float64       \n",
      " 6   CustomerID        397884 non-null  float64       \n",
      " 7   Country           397884 non-null  object        \n",
      " 8   InvoiceYearMonth  397884 non-null  int64         \n",
      " 9   Date              397884 non-null  object        \n",
      "dtypes: datetime64[ns](1), float64(2), int64(2), object(5)\n",
      "memory usage: 33.4+ MB\n"
     ]
    }
   ],
   "source": [
    "# Object to Datetime\n",
    "df['InvoiceDate'] = pd.to_datetime(df['InvoiceDate'])\n",
    "\n",
    "# add new columns for year-month and date\n",
    "df['InvoiceYearMonth'] = df['InvoiceDate'].map(lambda date: 100*date.year + date.month)\n",
    "df['Date'] = df['InvoiceDate'].dt.strftime('%Y-%m')\n",
    "\n",
    "df.info()"
   ]
  },
  {
   "cell_type": "code",
   "execution_count": 113,
   "id": "d2cfe18c",
   "metadata": {
    "ExecuteTime": {
     "end_time": "2021-08-23T00:11:22.400582Z",
     "start_time": "2021-08-23T00:11:22.174604Z"
    }
   },
   "outputs": [
    {
     "name": "stdout",
     "output_type": "stream",
     "text": [
      "<class 'pandas.core.frame.DataFrame'>\n",
      "Int64Index: 397884 entries, 0 to 541908\n",
      "Data columns (total 10 columns):\n",
      " #   Column            Non-Null Count   Dtype         \n",
      "---  ------            --------------   -----         \n",
      " 0   InvoiceNo         397884 non-null  object        \n",
      " 1   StockCode         397884 non-null  object        \n",
      " 2   Description       397884 non-null  object        \n",
      " 3   Quantity          397884 non-null  int64         \n",
      " 4   InvoiceDate       397884 non-null  datetime64[ns]\n",
      " 5   UnitPrice         397884 non-null  float64       \n",
      " 6   CustomerID        397884 non-null  float64       \n",
      " 7   Country           397884 non-null  object        \n",
      " 8   InvoiceYearMonth  397884 non-null  int64         \n",
      " 9   Date              397884 non-null  datetime64[ns]\n",
      "dtypes: datetime64[ns](2), float64(2), int64(2), object(4)\n",
      "memory usage: 33.4+ MB\n"
     ]
    }
   ],
   "source": [
    "#convert Date data type to datetime\n",
    "df['Date']=pd.to_datetime(df['Date'])\n",
    "df.info()"
   ]
  },
  {
   "cell_type": "code",
   "execution_count": 114,
   "id": "9f75e05e",
   "metadata": {
    "ExecuteTime": {
     "end_time": "2021-08-23T00:11:22.425554Z",
     "start_time": "2021-08-23T00:11:22.406375Z"
    }
   },
   "outputs": [
    {
     "data": {
      "text/html": [
       "<div>\n",
       "<style scoped>\n",
       "    .dataframe tbody tr th:only-of-type {\n",
       "        vertical-align: middle;\n",
       "    }\n",
       "\n",
       "    .dataframe tbody tr th {\n",
       "        vertical-align: top;\n",
       "    }\n",
       "\n",
       "    .dataframe thead th {\n",
       "        text-align: right;\n",
       "    }\n",
       "</style>\n",
       "<table border=\"1\" class=\"dataframe\">\n",
       "  <thead>\n",
       "    <tr style=\"text-align: right;\">\n",
       "      <th></th>\n",
       "      <th>InvoiceNo</th>\n",
       "      <th>StockCode</th>\n",
       "      <th>Description</th>\n",
       "      <th>Quantity</th>\n",
       "      <th>InvoiceDate</th>\n",
       "      <th>UnitPrice</th>\n",
       "      <th>CustomerID</th>\n",
       "      <th>Country</th>\n",
       "      <th>InvoiceYearMonth</th>\n",
       "      <th>Date</th>\n",
       "    </tr>\n",
       "  </thead>\n",
       "  <tbody>\n",
       "    <tr>\n",
       "      <th>0</th>\n",
       "      <td>536365</td>\n",
       "      <td>85123A</td>\n",
       "      <td>WHITE HANGING HEART T-LIGHT HOLDER</td>\n",
       "      <td>6</td>\n",
       "      <td>2010-12-01 08:26:00</td>\n",
       "      <td>2.55</td>\n",
       "      <td>17850.0</td>\n",
       "      <td>United Kingdom</td>\n",
       "      <td>201012</td>\n",
       "      <td>2010-12-01</td>\n",
       "    </tr>\n",
       "    <tr>\n",
       "      <th>1</th>\n",
       "      <td>536365</td>\n",
       "      <td>71053</td>\n",
       "      <td>WHITE METAL LANTERN</td>\n",
       "      <td>6</td>\n",
       "      <td>2010-12-01 08:26:00</td>\n",
       "      <td>3.39</td>\n",
       "      <td>17850.0</td>\n",
       "      <td>United Kingdom</td>\n",
       "      <td>201012</td>\n",
       "      <td>2010-12-01</td>\n",
       "    </tr>\n",
       "    <tr>\n",
       "      <th>2</th>\n",
       "      <td>536365</td>\n",
       "      <td>84406B</td>\n",
       "      <td>CREAM CUPID HEARTS COAT HANGER</td>\n",
       "      <td>8</td>\n",
       "      <td>2010-12-01 08:26:00</td>\n",
       "      <td>2.75</td>\n",
       "      <td>17850.0</td>\n",
       "      <td>United Kingdom</td>\n",
       "      <td>201012</td>\n",
       "      <td>2010-12-01</td>\n",
       "    </tr>\n",
       "    <tr>\n",
       "      <th>3</th>\n",
       "      <td>536365</td>\n",
       "      <td>84029G</td>\n",
       "      <td>KNITTED UNION FLAG HOT WATER BOTTLE</td>\n",
       "      <td>6</td>\n",
       "      <td>2010-12-01 08:26:00</td>\n",
       "      <td>3.39</td>\n",
       "      <td>17850.0</td>\n",
       "      <td>United Kingdom</td>\n",
       "      <td>201012</td>\n",
       "      <td>2010-12-01</td>\n",
       "    </tr>\n",
       "    <tr>\n",
       "      <th>4</th>\n",
       "      <td>536365</td>\n",
       "      <td>84029E</td>\n",
       "      <td>RED WOOLLY HOTTIE WHITE HEART.</td>\n",
       "      <td>6</td>\n",
       "      <td>2010-12-01 08:26:00</td>\n",
       "      <td>3.39</td>\n",
       "      <td>17850.0</td>\n",
       "      <td>United Kingdom</td>\n",
       "      <td>201012</td>\n",
       "      <td>2010-12-01</td>\n",
       "    </tr>\n",
       "  </tbody>\n",
       "</table>\n",
       "</div>"
      ],
      "text/plain": [
       "  InvoiceNo StockCode                          Description  Quantity  \\\n",
       "0    536365    85123A   WHITE HANGING HEART T-LIGHT HOLDER         6   \n",
       "1    536365     71053                  WHITE METAL LANTERN         6   \n",
       "2    536365    84406B       CREAM CUPID HEARTS COAT HANGER         8   \n",
       "3    536365    84029G  KNITTED UNION FLAG HOT WATER BOTTLE         6   \n",
       "4    536365    84029E       RED WOOLLY HOTTIE WHITE HEART.         6   \n",
       "\n",
       "          InvoiceDate  UnitPrice  CustomerID         Country  \\\n",
       "0 2010-12-01 08:26:00       2.55     17850.0  United Kingdom   \n",
       "1 2010-12-01 08:26:00       3.39     17850.0  United Kingdom   \n",
       "2 2010-12-01 08:26:00       2.75     17850.0  United Kingdom   \n",
       "3 2010-12-01 08:26:00       3.39     17850.0  United Kingdom   \n",
       "4 2010-12-01 08:26:00       3.39     17850.0  United Kingdom   \n",
       "\n",
       "   InvoiceYearMonth       Date  \n",
       "0            201012 2010-12-01  \n",
       "1            201012 2010-12-01  \n",
       "2            201012 2010-12-01  \n",
       "3            201012 2010-12-01  \n",
       "4            201012 2010-12-01  "
      ]
     },
     "execution_count": 114,
     "metadata": {},
     "output_type": "execute_result"
    }
   ],
   "source": [
    "df.head()"
   ]
  },
  {
   "cell_type": "markdown",
   "id": "70a71072",
   "metadata": {},
   "source": [
    "### Select Country"
   ]
  },
  {
   "cell_type": "code",
   "execution_count": 115,
   "id": "8c13bc7e",
   "metadata": {
    "ExecuteTime": {
     "end_time": "2021-08-23T00:11:22.478614Z",
     "start_time": "2021-08-23T00:11:22.427899Z"
    }
   },
   "outputs": [
    {
     "data": {
      "text/plain": [
       "United Kingdom          89.051332\n",
       "Germany                  2.272019\n",
       "France                   2.096340\n",
       "EIRE                     1.818621\n",
       "Spain                    0.624303\n",
       "Netherlands              0.592886\n",
       "Belgium                  0.510450\n",
       "Switzerland              0.462698\n",
       "Portugal                 0.367444\n",
       "Australia                0.297072\n",
       "Norway                   0.269174\n",
       "Italy                    0.190508\n",
       "Channel Islands          0.187994\n",
       "Finland                  0.172161\n",
       "Cyprus                   0.154316\n",
       "Sweden                   0.113350\n",
       "Austria                  0.100029\n",
       "Denmark                  0.095505\n",
       "Poland                   0.082939\n",
       "Japan                    0.080677\n",
       "Israel                   0.062330\n",
       "Unspecified              0.061324\n",
       "Singapore                0.055795\n",
       "Iceland                  0.045742\n",
       "USA                      0.044988\n",
       "Canada                   0.037951\n",
       "Greece                   0.036443\n",
       "Malta                    0.028149\n",
       "United Arab Emirates     0.017090\n",
       "European Community       0.015080\n",
       "RSA                      0.014326\n",
       "Lebanon                  0.011310\n",
       "Lithuania                0.008797\n",
       "Brazil                   0.008043\n",
       "Czech Republic           0.006283\n",
       "Bahrain                  0.004273\n",
       "Saudi Arabia             0.002262\n",
       "Name: Country, dtype: float64"
      ]
     },
     "execution_count": 115,
     "metadata": {},
     "output_type": "execute_result"
    }
   ],
   "source": [
    "df.Country.value_counts(normalize=True) * 100"
   ]
  },
  {
   "cell_type": "markdown",
   "id": "986d6dd1",
   "metadata": {},
   "source": [
    "**OBSERVATION**: it seems like this dataset has majority of the data for the UK, I am going to analyze UK data."
   ]
  },
  {
   "cell_type": "code",
   "execution_count": 116,
   "id": "f3aabdd7",
   "metadata": {
    "ExecuteTime": {
     "end_time": "2021-08-23T00:11:22.583853Z",
     "start_time": "2021-08-23T00:11:22.484791Z"
    }
   },
   "outputs": [
    {
     "data": {
      "text/plain": [
       "United Kingdom    1.0\n",
       "Name: Country, dtype: float64"
      ]
     },
     "execution_count": 116,
     "metadata": {},
     "output_type": "execute_result"
    }
   ],
   "source": [
    "df = df[df.Country == 'United Kingdom']\n",
    "df.Country.value_counts(normalize = True)"
   ]
  },
  {
   "cell_type": "markdown",
   "id": "bfb386a9",
   "metadata": {},
   "source": [
    "***Crucial Information For this FRM Model***\n",
    "\n",
    "* Customer ID\n",
    "* Unit Price\n",
    "* Quantity\n",
    "* Invoice Date"
   ]
  },
  {
   "cell_type": "markdown",
   "id": "cc4f4032",
   "metadata": {},
   "source": [
    "## Exploratory Analysis\n",
    "\n",
    "This analysis observes for the followings:\n",
    "\n",
    "1. Order volume over time\n",
    "2. Revenue over time\n",
    "3. Monthly Revenue"
   ]
  },
  {
   "cell_type": "markdown",
   "id": "63a1c047",
   "metadata": {},
   "source": [
    "### Aggregating Orders by Month\n",
    "\n",
    "To observe monthly sales volume"
   ]
  },
  {
   "cell_type": "code",
   "execution_count": 117,
   "id": "a3e813b8",
   "metadata": {
    "ExecuteTime": {
     "end_time": "2021-08-23T00:11:22.609744Z",
     "start_time": "2021-08-23T00:11:22.589416Z"
    }
   },
   "outputs": [
    {
     "data": {
      "text/plain": [
       "Date\n",
       "2010-12-01    267767\n",
       "2011-01-01    278251\n",
       "2011-02-01    213375\n",
       "2011-03-01    276304\n",
       "2011-04-01    260448\n",
       "2011-05-01    301824\n",
       "2011-06-01    280974\n",
       "2011-07-01    303601\n",
       "2011-08-01    310831\n",
       "2011-09-01    454559\n",
       "2011-10-01    476984\n",
       "2011-11-01    571215\n",
       "2011-12-01    260607\n",
       "Name: Quantity, dtype: int64"
      ]
     },
     "execution_count": 117,
     "metadata": {},
     "output_type": "execute_result"
    }
   ],
   "source": [
    "# aggregate orders by month\n",
    "df_agg = df.groupby('Date').Quantity.sum()\n",
    "df_agg"
   ]
  },
  {
   "cell_type": "code",
   "execution_count": 118,
   "id": "72a1b3dd",
   "metadata": {
    "ExecuteTime": {
     "end_time": "2021-08-23T00:11:22.625405Z",
     "start_time": "2021-08-23T00:11:22.614440Z"
    }
   },
   "outputs": [
    {
     "data": {
      "text/html": [
       "<div>\n",
       "<style scoped>\n",
       "    .dataframe tbody tr th:only-of-type {\n",
       "        vertical-align: middle;\n",
       "    }\n",
       "\n",
       "    .dataframe tbody tr th {\n",
       "        vertical-align: top;\n",
       "    }\n",
       "\n",
       "    .dataframe thead th {\n",
       "        text-align: right;\n",
       "    }\n",
       "</style>\n",
       "<table border=\"1\" class=\"dataframe\">\n",
       "  <thead>\n",
       "    <tr style=\"text-align: right;\">\n",
       "      <th></th>\n",
       "      <th>Date</th>\n",
       "      <th>Quantity</th>\n",
       "    </tr>\n",
       "  </thead>\n",
       "  <tbody>\n",
       "    <tr>\n",
       "      <th>0</th>\n",
       "      <td>2010-12-01</td>\n",
       "      <td>267767</td>\n",
       "    </tr>\n",
       "    <tr>\n",
       "      <th>1</th>\n",
       "      <td>2011-01-01</td>\n",
       "      <td>278251</td>\n",
       "    </tr>\n",
       "    <tr>\n",
       "      <th>2</th>\n",
       "      <td>2011-02-01</td>\n",
       "      <td>213375</td>\n",
       "    </tr>\n",
       "    <tr>\n",
       "      <th>3</th>\n",
       "      <td>2011-03-01</td>\n",
       "      <td>276304</td>\n",
       "    </tr>\n",
       "    <tr>\n",
       "      <th>4</th>\n",
       "      <td>2011-04-01</td>\n",
       "      <td>260448</td>\n",
       "    </tr>\n",
       "  </tbody>\n",
       "</table>\n",
       "</div>"
      ],
      "text/plain": [
       "        Date  Quantity\n",
       "0 2010-12-01    267767\n",
       "1 2011-01-01    278251\n",
       "2 2011-02-01    213375\n",
       "3 2011-03-01    276304\n",
       "4 2011-04-01    260448"
      ]
     },
     "execution_count": 118,
     "metadata": {},
     "output_type": "execute_result"
    }
   ],
   "source": [
    "# create a dataframe for monthly sales volume\n",
    "df_agg = pd.DataFrame(df_agg)\n",
    "df_agg = df_agg.reset_index()\n",
    "df_agg.head()"
   ]
  },
  {
   "cell_type": "code",
   "execution_count": 119,
   "id": "ca186de4",
   "metadata": {
    "ExecuteTime": {
     "end_time": "2021-08-23T00:11:22.818186Z",
     "start_time": "2021-08-23T00:11:22.627616Z"
    }
   },
   "outputs": [
    {
     "data": {
      "image/png": "[encoded data removed]",
      "text/plain": [
       "<Figure size 1600x500 with 1 Axes>"
      ]
     },
     "metadata": {
      "needs_background": "light"
     },
     "output_type": "display_data"
    }
   ],
   "source": [
    "def plot_df(df, x, y, title=\"\", xlabel='Date', ylabel='Orders', dpi=100):\n",
    "    plt.figure(figsize=(16,5), dpi=dpi)\n",
    "    plt.gca().set(title=title, xlabel=xlabel, ylabel=ylabel)\n",
    "    plt.plot(x, y, color='tab:Blue', marker='o')\n",
    "    plt.show()\n",
    "    \n",
    "plot_df(df_agg, x=df_agg.Date, y=df_agg.Quantity, title='Monthly Order Volume')"
   ]
  },
  {
   "cell_type": "markdown",
   "id": "5498fb88",
   "metadata": {},
   "source": [
    "### Revenue per Order\n",
    "\n",
    "Revenue = Order Count * Average Revenue per Order"
   ]
  },
  {
   "cell_type": "code",
   "execution_count": 120,
   "id": "2bbe2625",
   "metadata": {
    "ExecuteTime": {
     "end_time": "2021-08-23T00:11:22.836443Z",
     "start_time": "2021-08-23T00:11:22.820084Z"
    }
   },
   "outputs": [
    {
     "data": {
      "text/html": [
       "<div>\n",
       "<style scoped>\n",
       "    .dataframe tbody tr th:only-of-type {\n",
       "        vertical-align: middle;\n",
       "    }\n",
       "\n",
       "    .dataframe tbody tr th {\n",
       "        vertical-align: top;\n",
       "    }\n",
       "\n",
       "    .dataframe thead th {\n",
       "        text-align: right;\n",
       "    }\n",
       "</style>\n",
       "<table border=\"1\" class=\"dataframe\">\n",
       "  <thead>\n",
       "    <tr style=\"text-align: right;\">\n",
       "      <th></th>\n",
       "      <th>InvoiceNo</th>\n",
       "      <th>StockCode</th>\n",
       "      <th>Description</th>\n",
       "      <th>Quantity</th>\n",
       "      <th>InvoiceDate</th>\n",
       "      <th>UnitPrice</th>\n",
       "      <th>CustomerID</th>\n",
       "      <th>Country</th>\n",
       "      <th>InvoiceYearMonth</th>\n",
       "      <th>Date</th>\n",
       "      <th>Revenue</th>\n",
       "    </tr>\n",
       "  </thead>\n",
       "  <tbody>\n",
       "    <tr>\n",
       "      <th>0</th>\n",
       "      <td>536365</td>\n",
       "      <td>85123A</td>\n",
       "      <td>WHITE HANGING HEART T-LIGHT HOLDER</td>\n",
       "      <td>6</td>\n",
       "      <td>2010-12-01 08:26:00</td>\n",
       "      <td>2.55</td>\n",
       "      <td>17850.0</td>\n",
       "      <td>United Kingdom</td>\n",
       "      <td>201012</td>\n",
       "      <td>2010-12-01</td>\n",
       "      <td>15.30</td>\n",
       "    </tr>\n",
       "    <tr>\n",
       "      <th>1</th>\n",
       "      <td>536365</td>\n",
       "      <td>71053</td>\n",
       "      <td>WHITE METAL LANTERN</td>\n",
       "      <td>6</td>\n",
       "      <td>2010-12-01 08:26:00</td>\n",
       "      <td>3.39</td>\n",
       "      <td>17850.0</td>\n",
       "      <td>United Kingdom</td>\n",
       "      <td>201012</td>\n",
       "      <td>2010-12-01</td>\n",
       "      <td>20.34</td>\n",
       "    </tr>\n",
       "    <tr>\n",
       "      <th>2</th>\n",
       "      <td>536365</td>\n",
       "      <td>84406B</td>\n",
       "      <td>CREAM CUPID HEARTS COAT HANGER</td>\n",
       "      <td>8</td>\n",
       "      <td>2010-12-01 08:26:00</td>\n",
       "      <td>2.75</td>\n",
       "      <td>17850.0</td>\n",
       "      <td>United Kingdom</td>\n",
       "      <td>201012</td>\n",
       "      <td>2010-12-01</td>\n",
       "      <td>22.00</td>\n",
       "    </tr>\n",
       "    <tr>\n",
       "      <th>3</th>\n",
       "      <td>536365</td>\n",
       "      <td>84029G</td>\n",
       "      <td>KNITTED UNION FLAG HOT WATER BOTTLE</td>\n",
       "      <td>6</td>\n",
       "      <td>2010-12-01 08:26:00</td>\n",
       "      <td>3.39</td>\n",
       "      <td>17850.0</td>\n",
       "      <td>United Kingdom</td>\n",
       "      <td>201012</td>\n",
       "      <td>2010-12-01</td>\n",
       "      <td>20.34</td>\n",
       "    </tr>\n",
       "    <tr>\n",
       "      <th>4</th>\n",
       "      <td>536365</td>\n",
       "      <td>84029E</td>\n",
       "      <td>RED WOOLLY HOTTIE WHITE HEART.</td>\n",
       "      <td>6</td>\n",
       "      <td>2010-12-01 08:26:00</td>\n",
       "      <td>3.39</td>\n",
       "      <td>17850.0</td>\n",
       "      <td>United Kingdom</td>\n",
       "      <td>201012</td>\n",
       "      <td>2010-12-01</td>\n",
       "      <td>20.34</td>\n",
       "    </tr>\n",
       "  </tbody>\n",
       "</table>\n",
       "</div>"
      ],
      "text/plain": [
       "  InvoiceNo StockCode                          Description  Quantity  \\\n",
       "0    536365    85123A   WHITE HANGING HEART T-LIGHT HOLDER         6   \n",
       "1    536365     71053                  WHITE METAL LANTERN         6   \n",
       "2    536365    84406B       CREAM CUPID HEARTS COAT HANGER         8   \n",
       "3    536365    84029G  KNITTED UNION FLAG HOT WATER BOTTLE         6   \n",
       "4    536365    84029E       RED WOOLLY HOTTIE WHITE HEART.         6   \n",
       "\n",
       "          InvoiceDate  UnitPrice  CustomerID         Country  \\\n",
       "0 2010-12-01 08:26:00       2.55     17850.0  United Kingdom   \n",
       "1 2010-12-01 08:26:00       3.39     17850.0  United Kingdom   \n",
       "2 2010-12-01 08:26:00       2.75     17850.0  United Kingdom   \n",
       "3 2010-12-01 08:26:00       3.39     17850.0  United Kingdom   \n",
       "4 2010-12-01 08:26:00       3.39     17850.0  United Kingdom   \n",
       "\n",
       "   InvoiceYearMonth       Date  Revenue  \n",
       "0            201012 2010-12-01    15.30  \n",
       "1            201012 2010-12-01    20.34  \n",
       "2            201012 2010-12-01    22.00  \n",
       "3            201012 2010-12-01    20.34  \n",
       "4            201012 2010-12-01    20.34  "
      ]
     },
     "execution_count": 120,
     "metadata": {},
     "output_type": "execute_result"
    }
   ],
   "source": [
    "df['Revenue'] = df['Quantity'] * df['UnitPrice']\n",
    "df.head()"
   ]
  },
  {
   "cell_type": "code",
   "execution_count": 121,
   "id": "058298e4",
   "metadata": {
    "ExecuteTime": {
     "end_time": "2021-08-23T00:11:23.000148Z",
     "start_time": "2021-08-23T00:11:22.838954Z"
    }
   },
   "outputs": [
    {
     "data": {
      "text/plain": [
       "<matplotlib.axes._subplots.AxesSubplot at 0x7ff0f85d0d00>"
      ]
     },
     "execution_count": 121,
     "metadata": {},
     "output_type": "execute_result"
    },
    {
     "data": {
      "image/png": "[encoded data removed]",
      "text/plain": [
       "<Figure size 432x288 with 1 Axes>"
      ]
     },
     "metadata": {
      "needs_background": "light"
     },
     "output_type": "display_data"
    }
   ],
   "source": [
    "sns.boxplot(x=df['Quantity'])"
   ]
  },
  {
   "cell_type": "markdown",
   "id": "083fefaa",
   "metadata": {},
   "source": [
    "### Monthly Revenue"
   ]
  },
  {
   "cell_type": "code",
   "execution_count": 122,
   "id": "e32ae436",
   "metadata": {
    "ExecuteTime": {
     "end_time": "2021-08-23T00:11:23.018495Z",
     "start_time": "2021-08-23T00:11:23.002091Z"
    }
   },
   "outputs": [
    {
     "data": {
      "text/html": [
       "<div>\n",
       "<style scoped>\n",
       "    .dataframe tbody tr th:only-of-type {\n",
       "        vertical-align: middle;\n",
       "    }\n",
       "\n",
       "    .dataframe tbody tr th {\n",
       "        vertical-align: top;\n",
       "    }\n",
       "\n",
       "    .dataframe thead th {\n",
       "        text-align: right;\n",
       "    }\n",
       "</style>\n",
       "<table border=\"1\" class=\"dataframe\">\n",
       "  <thead>\n",
       "    <tr style=\"text-align: right;\">\n",
       "      <th></th>\n",
       "      <th>InvoiceYearMonth</th>\n",
       "      <th>Revenue</th>\n",
       "    </tr>\n",
       "  </thead>\n",
       "  <tbody>\n",
       "    <tr>\n",
       "      <th>8</th>\n",
       "      <td>201108</td>\n",
       "      <td>498453.320</td>\n",
       "    </tr>\n",
       "    <tr>\n",
       "      <th>9</th>\n",
       "      <td>201109</td>\n",
       "      <td>796780.272</td>\n",
       "    </tr>\n",
       "    <tr>\n",
       "      <th>10</th>\n",
       "      <td>201110</td>\n",
       "      <td>824766.220</td>\n",
       "    </tr>\n",
       "    <tr>\n",
       "      <th>11</th>\n",
       "      <td>201111</td>\n",
       "      <td>980645.750</td>\n",
       "    </tr>\n",
       "    <tr>\n",
       "      <th>12</th>\n",
       "      <td>201112</td>\n",
       "      <td>472384.170</td>\n",
       "    </tr>\n",
       "  </tbody>\n",
       "</table>\n",
       "</div>"
      ],
      "text/plain": [
       "    InvoiceYearMonth     Revenue\n",
       "8             201108  498453.320\n",
       "9             201109  796780.272\n",
       "10            201110  824766.220\n",
       "11            201111  980645.750\n",
       "12            201112  472384.170"
      ]
     },
     "execution_count": 122,
     "metadata": {},
     "output_type": "execute_result"
    }
   ],
   "source": [
    "df_revenue = df.groupby(['InvoiceYearMonth'])['Revenue'].sum().reset_index()\n",
    "df_revenue.tail()   #using tail to make sure there ar 12 months"
   ]
  },
  {
   "cell_type": "code",
   "execution_count": 123,
   "id": "bd4097a2",
   "metadata": {
    "ExecuteTime": {
     "end_time": "2021-08-23T00:11:23.074724Z",
     "start_time": "2021-08-23T00:11:23.020205Z"
    },
    "code_folding": []
   },
   "outputs": [
    {
     "data": {
      "application/vnd.plotly.v1+json": {
       "config": {
        "linkText": "Export to plot.ly",
        "plotlyServerURL": "https://plot.ly",
        "showLink": false
       },
       "data": [
        {
         "mode": "lines+markers",
         "type": "scatter",
         "x": [
          201012,
          201101,
          201102,
          201103,
          201104,
          201105,
          201106,
          201107,
          201108,
          201109,
          201110,
          201111,
          201112
         ],
         "y": [
          498661.8500000227,
          442190.06000001554,
          355655.6300000114,
          467198.5900000209,
          409559.14100000996,
          551568.8200000015,
          524915.4800000143,
          485612.25100000994,
          498453.32000000845,
          796780.2719999977,
          824766.2200000047,
          980645.7499999859,
          472384.1700000016
         ]
        }
       ],
       "layout": {
        "template": {
         "data": {
          "bar": [
           {
            "error_x": {
             "color": "#2a3f5f"
            },
            "error_y": {
             "color": "#2a3f5f"
            },
            "marker": {
             "line": {
              "color": "#E5ECF6",
              "width": 0.5
             },
             "pattern": {
              "fillmode": "overlay",
              "size": 10,
              "solidity": 0.2
             }
            },
            "type": "bar"
           }
          ],
          "barpolar": [
           {
            "marker": {
             "line": {
              "color": "#E5ECF6",
              "width": 0.5
             },
             "pattern": {
              "fillmode": "overlay",
              "size": 10,
              "solidity": 0.2
             }
            },
            "type": "barpolar"
           }
          ],
          "carpet": [
           {
            "aaxis": {
             "endlinecolor": "#2a3f5f",
             "gridcolor": "white",
             "linecolor": "white",
             "minorgridcolor": "white",
             "startlinecolor": "#2a3f5f"
            },
            "baxis": {
             "endlinecolor": "#2a3f5f",
             "gridcolor": "white",
             "linecolor": "white",
             "minorgridcolor": "white",
             "startlinecolor": "#2a3f5f"
            },
            "type": "carpet"
           }
          ],
          "choropleth": [
           {
            "colorbar": {
             "outlinewidth": 0,
             "ticks": ""
            },
            "type": "choropleth"
           }
          ],
          "contour": [
           {
            "colorbar": {
             "outlinewidth": 0,
             "ticks": ""
            },
            "colorscale": [
             [
              0,
              "#0d0887"
             ],
             [
              0.1111111111111111,
              "#46039f"
             ],
             [
              0.2222222222222222,
              "#7201a8"
             ],
             [
              0.3333333333333333,
              "#9c179e"
             ],
             [
              0.4444444444444444,
              "#bd3786"
             ],
             [
              0.5555555555555556,
              "#d8576b"
             ],
             [
              0.6666666666666666,
              "#ed7953"
             ],
             [
              0.7777777777777778,
              "#fb9f3a"
             ],
             [
              0.8888888888888888,
              "#fdca26"
             ],
             [
              1,
              "#f0f921"
             ]
            ],
            "type": "contour"
           }
          ],
          "contourcarpet": [
           {
            "colorbar": {
             "outlinewidth": 0,
             "ticks": ""
            },
            "type": "contourcarpet"
           }
          ],
          "heatmap": [
           {
            "colorbar": {
             "outlinewidth": 0,
             "ticks": ""
            },
            "colorscale": [
             [
              0,
              "#0d0887"
             ],
             [
              0.1111111111111111,
              "#46039f"
             ],
             [
              0.2222222222222222,
              "#7201a8"
             ],
             [
              0.3333333333333333,
              "#9c179e"
             ],
             [
              0.4444444444444444,
              "#bd3786"
             ],
             [
              0.5555555555555556,
              "#d8576b"
             ],
             [
              0.6666666666666666,
              "#ed7953"
             ],
             [
              0.7777777777777778,
              "#fb9f3a"
             ],
             [
              0.8888888888888888,
              "#fdca26"
             ],
             [
              1,
              "#f0f921"
             ]
            ],
            "type": "heatmap"
           }
          ],
          "heatmapgl": [
           {
            "colorbar": {
             "outlinewidth": 0,
             "ticks": ""
            },
            "colorscale": [
             [
              0,
              "#0d0887"
             ],
             [
              0.1111111111111111,
              "#46039f"
             ],
             [
              0.2222222222222222,
              "#7201a8"
             ],
             [
              0.3333333333333333,
              "#9c179e"
             ],
             [
              0.4444444444444444,
              "#bd3786"
             ],
             [
              0.5555555555555556,
              "#d8576b"
             ],
             [
              0.6666666666666666,
              "#ed7953"
             ],
             [
              0.7777777777777778,
              "#fb9f3a"
             ],
             [
              0.8888888888888888,
              "#fdca26"
             ],
             [
              1,
              "#f0f921"
             ]
            ],
            "type": "heatmapgl"
           }
          ],
          "histogram": [
           {
            "marker": {
             "pattern": {
              "fillmode": "overlay",
              "size": 10,
              "solidity": 0.2
             }
            },
            "type": "histogram"
           }
          ],
          "histogram2d": [
           {
            "colorbar": {
             "outlinewidth": 0,
             "ticks": ""
            },
            "colorscale": [
             [
              0,
              "#0d0887"
             ],
             [
              0.1111111111111111,
              "#46039f"
             ],
             [
              0.2222222222222222,
              "#7201a8"
             ],
             [
              0.3333333333333333,
              "#9c179e"
             ],
             [
              0.4444444444444444,
              "#bd3786"
             ],
             [
              0.5555555555555556,
              "#d8576b"
             ],
             [
              0.6666666666666666,
              "#ed7953"
             ],
             [
              0.7777777777777778,
              "#fb9f3a"
             ],
             [
              0.8888888888888888,
              "#fdca26"
             ],
             [
              1,
              "#f0f921"
             ]
            ],
            "type": "histogram2d"
           }
          ],
          "histogram2dcontour": [
           {
            "colorbar": {
             "outlinewidth": 0,
             "ticks": ""
            },
            "colorscale": [
             [
              0,
              "#0d0887"
             ],
             [
              0.1111111111111111,
              "#46039f"
             ],
             [
              0.2222222222222222,
              "#7201a8"
             ],
             [
              0.3333333333333333,
              "#9c179e"
             ],
             [
              0.4444444444444444,
              "#bd3786"
             ],
             [
              0.5555555555555556,
              "#d8576b"
             ],
             [
              0.6666666666666666,
              "#ed7953"
             ],
             [
              0.7777777777777778,
              "#fb9f3a"
             ],
             [
              0.8888888888888888,
              "#fdca26"
             ],
             [
              1,
              "#f0f921"
             ]
            ],
            "type": "histogram2dcontour"
           }
          ],
          "mesh3d": [
           {
            "colorbar": {
             "outlinewidth": 0,
             "ticks": ""
            },
            "type": "mesh3d"
           }
          ],
          "parcoords": [
           {
            "line": {
             "colorbar": {
              "outlinewidth": 0,
              "ticks": ""
             }
            },
            "type": "parcoords"
           }
          ],
          "pie": [
           {
            "automargin": true,
            "type": "pie"
           }
          ],
          "scatter": [
           {
            "marker": {
             "colorbar": {
              "outlinewidth": 0,
              "ticks": ""
             }
            },
            "type": "scatter"
           }
          ],
          "scatter3d": [
           {
            "line": {
             "colorbar": {
              "outlinewidth": 0,
              "ticks": ""
             }
            },
            "marker": {
             "colorbar": {
              "outlinewidth": 0,
              "ticks": ""
             }
            },
            "type": "scatter3d"
           }
          ],
          "scattercarpet": [
           {
            "marker": {
             "colorbar": {
              "outlinewidth": 0,
              "ticks": ""
             }
            },
            "type": "scattercarpet"
           }
          ],
          "scattergeo": [
           {
            "marker": {
             "colorbar": {
              "outlinewidth": 0,
              "ticks": ""
             }
            },
            "type": "scattergeo"
           }
          ],
          "scattergl": [
           {
            "marker": {
             "colorbar": {
              "outlinewidth": 0,
              "ticks": ""
             }
            },
            "type": "scattergl"
           }
          ],
          "scattermapbox": [
           {
            "marker": {
             "colorbar": {
              "outlinewidth": 0,
              "ticks": ""
             }
            },
            "type": "scattermapbox"
           }
          ],
          "scatterpolar": [
           {
            "marker": {
             "colorbar": {
              "outlinewidth": 0,
              "ticks": ""
             }
            },
            "type": "scatterpolar"
           }
          ],
          "scatterpolargl": [
           {
            "marker": {
             "colorbar": {
              "outlinewidth": 0,
              "ticks": ""
             }
            },
            "type": "scatterpolargl"
           }
          ],
          "scatterternary": [
           {
            "marker": {
             "colorbar": {
              "outlinewidth": 0,
              "ticks": ""
             }
            },
            "type": "scatterternary"
           }
          ],
          "surface": [
           {
            "colorbar": {
             "outlinewidth": 0,
             "ticks": ""
            },
            "colorscale": [
             [
              0,
              "#0d0887"
             ],
             [
              0.1111111111111111,
              "#46039f"
             ],
             [
              0.2222222222222222,
              "#7201a8"
             ],
             [
              0.3333333333333333,
              "#9c179e"
             ],
             [
              0.4444444444444444,
              "#bd3786"
             ],
             [
              0.5555555555555556,
              "#d8576b"
             ],
             [
              0.6666666666666666,
              "#ed7953"
             ],
             [
              0.7777777777777778,
              "#fb9f3a"
             ],
             [
              0.8888888888888888,
              "#fdca26"
             ],
             [
              1,
              "#f0f921"
             ]
            ],
            "type": "surface"
           }
          ],
          "table": [
           {
            "cells": {
             "fill": {
              "color": "#EBF0F8"
             },
             "line": {
              "color": "white"
             }
            },
            "header": {
             "fill": {
              "color": "#C8D4E3"
             },
             "line": {
              "color": "white"
             }
            },
            "type": "table"
           }
          ]
         },
         "layout": {
          "annotationdefaults": {
           "arrowcolor": "#2a3f5f",
           "arrowhead": 0,
           "arrowwidth": 1
          },
          "autotypenumbers": "strict",
          "coloraxis": {
           "colorbar": {
            "outlinewidth": 0,
            "ticks": ""
           }
          },
          "colorscale": {
           "diverging": [
            [
             0,
             "#8e0152"
            ],
            [
             0.1,
             "#c51b7d"
            ],
            [
             0.2,
             "#de77ae"
            ],
            [
             0.3,
             "#f1b6da"
            ],
            [
             0.4,
             "#fde0ef"
            ],
            [
             0.5,
             "#f7f7f7"
            ],
            [
             0.6,
             "#e6f5d0"
            ],
            [
             0.7,
             "#b8e186"
            ],
            [
             0.8,
             "#7fbc41"
            ],
            [
             0.9,
             "#4d9221"
            ],
            [
             1,
             "#276419"
            ]
           ],
           "sequential": [
            [
             0,
             "#0d0887"
            ],
            [
             0.1111111111111111,
             "#46039f"
            ],
            [
             0.2222222222222222,
             "#7201a8"
            ],
            [
             0.3333333333333333,
             "#9c179e"
            ],
            [
             0.4444444444444444,
             "#bd3786"
            ],
            [
             0.5555555555555556,
             "#d8576b"
            ],
            [
             0.6666666666666666,
             "#ed7953"
            ],
            [
             0.7777777777777778,
             "#fb9f3a"
            ],
            [
             0.8888888888888888,
             "#fdca26"
            ],
            [
             1,
             "#f0f921"
            ]
           ],
           "sequentialminus": [
            [
             0,
             "#0d0887"
            ],
            [
             0.1111111111111111,
             "#46039f"
            ],
            [
             0.2222222222222222,
             "#7201a8"
            ],
            [
             0.3333333333333333,
             "#9c179e"
            ],
            [
             0.4444444444444444,
             "#bd3786"
            ],
            [
             0.5555555555555556,
             "#d8576b"
            ],
            [
             0.6666666666666666,
             "#ed7953"
            ],
            [
             0.7777777777777778,
             "#fb9f3a"
            ],
            [
             0.8888888888888888,
             "#fdca26"
            ],
            [
             1,
             "#f0f921"
            ]
           ]
          },
          "colorway": [
           "#636efa",
           "#EF553B",
           "#00cc96",
           "#ab63fa",
           "#FFA15A",
           "#19d3f3",
           "#FF6692",
           "#B6E880",
           "#FF97FF",
           "#FECB52"
          ],
          "font": {
           "color": "#2a3f5f"
          },
          "geo": {
           "bgcolor": "white",
           "lakecolor": "white",
           "landcolor": "#E5ECF6",
           "showlakes": true,
           "showland": true,
           "subunitcolor": "white"
          },
          "hoverlabel": {
           "align": "left"
          },
          "hovermode": "closest",
          "mapbox": {
           "style": "light"
          },
          "paper_bgcolor": "white",
          "plot_bgcolor": "#E5ECF6",
          "polar": {
           "angularaxis": {
            "gridcolor": "white",
            "linecolor": "white",
            "ticks": ""
           },
           "bgcolor": "#E5ECF6",
           "radialaxis": {
            "gridcolor": "white",
            "linecolor": "white",
            "ticks": ""
           }
          },
          "scene": {
           "xaxis": {
            "backgroundcolor": "#E5ECF6",
            "gridcolor": "white",
            "gridwidth": 2,
            "linecolor": "white",
            "showbackground": true,
            "ticks": "",
            "zerolinecolor": "white"
           },
           "yaxis": {
            "backgroundcolor": "#E5ECF6",
            "gridcolor": "white",
            "gridwidth": 2,
            "linecolor": "white",
            "showbackground": true,
            "ticks": "",
            "zerolinecolor": "white"
           },
           "zaxis": {
            "backgroundcolor": "#E5ECF6",
            "gridcolor": "white",
            "gridwidth": 2,
            "linecolor": "white",
            "showbackground": true,
            "ticks": "",
            "zerolinecolor": "white"
           }
          },
          "shapedefaults": {
           "line": {
            "color": "#2a3f5f"
           }
          },
          "ternary": {
           "aaxis": {
            "gridcolor": "white",
            "linecolor": "white",
            "ticks": ""
           },
           "baxis": {
            "gridcolor": "white",
            "linecolor": "white",
            "ticks": ""
           },
           "bgcolor": "#E5ECF6",
           "caxis": {
            "gridcolor": "white",
            "linecolor": "white",
            "ticks": ""
           }
          },
          "title": {
           "x": 0.05
          },
          "xaxis": {
           "automargin": true,
           "gridcolor": "white",
           "linecolor": "white",
           "ticks": "",
           "title": {
            "standoff": 15
           },
           "zerolinecolor": "white",
           "zerolinewidth": 2
          },
          "yaxis": {
           "automargin": true,
           "gridcolor": "white",
           "linecolor": "white",
           "ticks": "",
           "title": {
            "standoff": 15
           },
           "zerolinecolor": "white",
           "zerolinewidth": 2
          }
         }
        },
        "title": {
         "text": "Montly Revenue"
        },
        "xaxis": {
         "type": "category"
        }
       }
      },
      "text/html": [
       "<div>                            <div id=\"493c0a16-3202-419e-bd78-c56b691d39e3\" class=\"plotly-graph-div\" style=\"height:525px; width:100%;\"></div>            <script type=\"text/javascript\">                require([\"plotly\"], function(Plotly) {                    window.PLOTLYENV=window.PLOTLYENV || {};                                    if (document.getElementById(\"493c0a16-3202-419e-bd78-c56b691d39e3\")) {                    Plotly.newPlot(                        \"493c0a16-3202-419e-bd78-c56b691d39e3\",                        [{\"mode\":\"lines+markers\",\"type\":\"scatter\",\"x\":[201012,201101,201102,201103,201104,201105,201106,201107,201108,201109,201110,201111,201112],\"y\":[498661.8500000227,442190.06000001554,355655.6300000114,467198.5900000209,409559.14100000996,551568.8200000015,524915.4800000143,485612.25100000994,498453.32000000845,796780.2719999977,824766.2200000047,980645.7499999859,472384.1700000016]}],                        {\"template\":{\"data\":{\"bar\":[{\"error_x\":{\"color\":\"#2a3f5f\"},\"error_y\":{\"color\":\"#2a3f5f\"},\"marker\":{\"line\":{\"color\":\"#E5ECF6\",\"width\":0.5},\"pattern\":{\"fillmode\":\"overlay\",\"size\":10,\"solidity\":0.2}},\"type\":\"bar\"}],\"barpolar\":[{\"marker\":{\"line\":{\"color\":\"#E5ECF6\",\"width\":0.5},\"pattern\":{\"fillmode\":\"overlay\",\"size\":10,\"solidity\":0.2}},\"type\":\"barpolar\"}],\"carpet\":[{\"aaxis\":{\"endlinecolor\":\"#2a3f5f\",\"gridcolor\":\"white\",\"linecolor\":\"white\",\"minorgridcolor\":\"white\",\"startlinecolor\":\"#2a3f5f\"},\"baxis\":{\"endlinecolor\":\"#2a3f5f\",\"gridcolor\":\"white\",\"linecolor\":\"white\",\"minorgridcolor\":\"white\",\"startlinecolor\":\"#2a3f5f\"},\"type\":\"carpet\"}],\"choropleth\":[{\"colorbar\":{\"outlinewidth\":0,\"ticks\":\"\"},\"type\":\"choropleth\"}],\"contour\":[{\"colorbar\":{\"outlinewidth\":0,\"ticks\":\"\"},\"colorscale\":[[0.0,\"#0d0887\"],[0.1111111111111111,\"#46039f\"],[0.2222222222222222,\"#7201a8\"],[0.3333333333333333,\"#9c179e\"],[0.4444444444444444,\"#bd3786\"],[0.5555555555555556,\"#d8576b\"],[0.6666666666666666,\"#ed7953\"],[0.7777777777777778,\"#fb9f3a\"],[0.8888888888888888,\"#fdca26\"],[1.0,\"#f0f921\"]],\"type\":\"contour\"}],\"contourcarpet\":[{\"colorbar\":{\"outlinewidth\":0,\"ticks\":\"\"},\"type\":\"contourcarpet\"}],\"heatmap\":[{\"colorbar\":{\"outlinewidth\":0,\"ticks\":\"\"},\"colorscale\":[[0.0,\"#0d0887\"],[0.1111111111111111,\"#46039f\"],[0.2222222222222222,\"#7201a8\"],[0.3333333333333333,\"#9c179e\"],[0.4444444444444444,\"#bd3786\"],[0.5555555555555556,\"#d8576b\"],[0.6666666666666666,\"#ed7953\"],[0.7777777777777778,\"#fb9f3a\"],[0.8888888888888888,\"#fdca26\"],[1.0,\"#f0f921\"]],\"type\":\"heatmap\"}],\"heatmapgl\":[{\"colorbar\":{\"outlinewidth\":0,\"ticks\":\"\"},\"colorscale\":[[0.0,\"#0d0887\"],[0.1111111111111111,\"#46039f\"],[0.2222222222222222,\"#7201a8\"],[0.3333333333333333,\"#9c179e\"],[0.4444444444444444,\"#bd3786\"],[0.5555555555555556,\"#d8576b\"],[0.6666666666666666,\"#ed7953\"],[0.7777777777777778,\"#fb9f3a\"],[0.8888888888888888,\"#fdca26\"],[1.0,\"#f0f921\"]],\"type\":\"heatmapgl\"}],\"histogram\":[{\"marker\":{\"pattern\":{\"fillmode\":\"overlay\",\"size\":10,\"solidity\":0.2}},\"type\":\"histogram\"}],\"histogram2d\":[{\"colorbar\":{\"outlinewidth\":0,\"ticks\":\"\"},\"colorscale\":[[0.0,\"#0d0887\"],[0.1111111111111111,\"#46039f\"],[0.2222222222222222,\"#7201a8\"],[0.3333333333333333,\"#9c179e\"],[0.4444444444444444,\"#bd3786\"],[0.5555555555555556,\"#d8576b\"],[0.6666666666666666,\"#ed7953\"],[0.7777777777777778,\"#fb9f3a\"],[0.8888888888888888,\"#fdca26\"],[1.0,\"#f0f921\"]],\"type\":\"histogram2d\"}],\"histogram2dcontour\":[{\"colorbar\":{\"outlinewidth\":0,\"ticks\":\"\"},\"colorscale\":[[0.0,\"#0d0887\"],[0.1111111111111111,\"#46039f\"],[0.2222222222222222,\"#7201a8\"],[0.3333333333333333,\"#9c179e\"],[0.4444444444444444,\"#bd3786\"],[0.5555555555555556,\"#d8576b\"],[0.6666666666666666,\"#ed7953\"],[0.7777777777777778,\"#fb9f3a\"],[0.8888888888888888,\"#fdca26\"],[1.0,\"#f0f921\"]],\"type\":\"histogram2dcontour\"}],\"mesh3d\":[{\"colorbar\":{\"outlinewidth\":0,\"ticks\":\"\"},\"type\":\"mesh3d\"}],\"parcoords\":[{\"line\":{\"colorbar\":{\"outlinewidth\":0,\"ticks\":\"\"}},\"type\":\"parcoords\"}],\"pie\":[{\"automargin\":true,\"type\":\"pie\"}],\"scatter\":[{\"marker\":{\"colorbar\":{\"outlinewidth\":0,\"ticks\":\"\"}},\"type\":\"scatter\"}],\"scatter3d\":[{\"line\":{\"colorbar\":{\"outlinewidth\":0,\"ticks\":\"\"}},\"marker\":{\"colorbar\":{\"outlinewidth\":0,\"ticks\":\"\"}},\"type\":\"scatter3d\"}],\"scattercarpet\":[{\"marker\":{\"colorbar\":{\"outlinewidth\":0,\"ticks\":\"\"}},\"type\":\"scattercarpet\"}],\"scattergeo\":[{\"marker\":{\"colorbar\":{\"outlinewidth\":0,\"ticks\":\"\"}},\"type\":\"scattergeo\"}],\"scattergl\":[{\"marker\":{\"colorbar\":{\"outlinewidth\":0,\"ticks\":\"\"}},\"type\":\"scattergl\"}],\"scattermapbox\":[{\"marker\":{\"colorbar\":{\"outlinewidth\":0,\"ticks\":\"\"}},\"type\":\"scattermapbox\"}],\"scatterpolar\":[{\"marker\":{\"colorbar\":{\"outlinewidth\":0,\"ticks\":\"\"}},\"type\":\"scatterpolar\"}],\"scatterpolargl\":[{\"marker\":{\"colorbar\":{\"outlinewidth\":0,\"ticks\":\"\"}},\"type\":\"scatterpolargl\"}],\"scatterternary\":[{\"marker\":{\"colorbar\":{\"outlinewidth\":0,\"ticks\":\"\"}},\"type\":\"scatterternary\"}],\"surface\":[{\"colorbar\":{\"outlinewidth\":0,\"ticks\":\"\"},\"colorscale\":[[0.0,\"#0d0887\"],[0.1111111111111111,\"#46039f\"],[0.2222222222222222,\"#7201a8\"],[0.3333333333333333,\"#9c179e\"],[0.4444444444444444,\"#bd3786\"],[0.5555555555555556,\"#d8576b\"],[0.6666666666666666,\"#ed7953\"],[0.7777777777777778,\"#fb9f3a\"],[0.8888888888888888,\"#fdca26\"],[1.0,\"#f0f921\"]],\"type\":\"surface\"}],\"table\":[{\"cells\":{\"fill\":{\"color\":\"#EBF0F8\"},\"line\":{\"color\":\"white\"}},\"header\":{\"fill\":{\"color\":\"#C8D4E3\"},\"line\":{\"color\":\"white\"}},\"type\":\"table\"}]},\"layout\":{\"annotationdefaults\":{\"arrowcolor\":\"#2a3f5f\",\"arrowhead\":0,\"arrowwidth\":1},\"autotypenumbers\":\"strict\",\"coloraxis\":{\"colorbar\":{\"outlinewidth\":0,\"ticks\":\"\"}},\"colorscale\":{\"diverging\":[[0,\"#8e0152\"],[0.1,\"#c51b7d\"],[0.2,\"#de77ae\"],[0.3,\"#f1b6da\"],[0.4,\"#fde0ef\"],[0.5,\"#f7f7f7\"],[0.6,\"#e6f5d0\"],[0.7,\"#b8e186\"],[0.8,\"#7fbc41\"],[0.9,\"#4d9221\"],[1,\"#276419\"]],\"sequential\":[[0.0,\"#0d0887\"],[0.1111111111111111,\"#46039f\"],[0.2222222222222222,\"#7201a8\"],[0.3333333333333333,\"#9c179e\"],[0.4444444444444444,\"#bd3786\"],[0.5555555555555556,\"#d8576b\"],[0.6666666666666666,\"#ed7953\"],[0.7777777777777778,\"#fb9f3a\"],[0.8888888888888888,\"#fdca26\"],[1.0,\"#f0f921\"]],\"sequentialminus\":[[0.0,\"#0d0887\"],[0.1111111111111111,\"#46039f\"],[0.2222222222222222,\"#7201a8\"],[0.3333333333333333,\"#9c179e\"],[0.4444444444444444,\"#bd3786\"],[0.5555555555555556,\"#d8576b\"],[0.6666666666666666,\"#ed7953\"],[0.7777777777777778,\"#fb9f3a\"],[0.8888888888888888,\"#fdca26\"],[1.0,\"#f0f921\"]]},\"colorway\":[\"#636efa\",\"#EF553B\",\"#00cc96\",\"#ab63fa\",\"#FFA15A\",\"#19d3f3\",\"#FF6692\",\"#B6E880\",\"#FF97FF\",\"#FECB52\"],\"font\":{\"color\":\"#2a3f5f\"},\"geo\":{\"bgcolor\":\"white\",\"lakecolor\":\"white\",\"landcolor\":\"#E5ECF6\",\"showlakes\":true,\"showland\":true,\"subunitcolor\":\"white\"},\"hoverlabel\":{\"align\":\"left\"},\"hovermode\":\"closest\",\"mapbox\":{\"style\":\"light\"},\"paper_bgcolor\":\"white\",\"plot_bgcolor\":\"#E5ECF6\",\"polar\":{\"angularaxis\":{\"gridcolor\":\"white\",\"linecolor\":\"white\",\"ticks\":\"\"},\"bgcolor\":\"#E5ECF6\",\"radialaxis\":{\"gridcolor\":\"white\",\"linecolor\":\"white\",\"ticks\":\"\"}},\"scene\":{\"xaxis\":{\"backgroundcolor\":\"#E5ECF6\",\"gridcolor\":\"white\",\"gridwidth\":2,\"linecolor\":\"white\",\"showbackground\":true,\"ticks\":\"\",\"zerolinecolor\":\"white\"},\"yaxis\":{\"backgroundcolor\":\"#E5ECF6\",\"gridcolor\":\"white\",\"gridwidth\":2,\"linecolor\":\"white\",\"showbackground\":true,\"ticks\":\"\",\"zerolinecolor\":\"white\"},\"zaxis\":{\"backgroundcolor\":\"#E5ECF6\",\"gridcolor\":\"white\",\"gridwidth\":2,\"linecolor\":\"white\",\"showbackground\":true,\"ticks\":\"\",\"zerolinecolor\":\"white\"}},\"shapedefaults\":{\"line\":{\"color\":\"#2a3f5f\"}},\"ternary\":{\"aaxis\":{\"gridcolor\":\"white\",\"linecolor\":\"white\",\"ticks\":\"\"},\"baxis\":{\"gridcolor\":\"white\",\"linecolor\":\"white\",\"ticks\":\"\"},\"bgcolor\":\"#E5ECF6\",\"caxis\":{\"gridcolor\":\"white\",\"linecolor\":\"white\",\"ticks\":\"\"}},\"title\":{\"x\":0.05},\"xaxis\":{\"automargin\":true,\"gridcolor\":\"white\",\"linecolor\":\"white\",\"ticks\":\"\",\"title\":{\"standoff\":15},\"zerolinecolor\":\"white\",\"zerolinewidth\":2},\"yaxis\":{\"automargin\":true,\"gridcolor\":\"white\",\"linecolor\":\"white\",\"ticks\":\"\",\"title\":{\"standoff\":15},\"zerolinecolor\":\"white\",\"zerolinewidth\":2}}},\"title\":{\"text\":\"Montly Revenue\"},\"xaxis\":{\"type\":\"category\"}},                        {\"responsive\": true}                    ).then(function(){\n",
       "                            \n",
       "var gd = document.getElementById('493c0a16-3202-419e-bd78-c56b691d39e3');\n",
       "var x = new MutationObserver(function (mutations, observer) {{\n",
       "        var display = window.getComputedStyle(gd).display;\n",
       "        if (!display || display === 'none') {{\n",
       "            console.log([gd, 'removed!']);\n",
       "            Plotly.purge(gd);\n",
       "            observer.disconnect();\n",
       "        }}\n",
       "}});\n",
       "\n",
       "// Listen for the removal of the full notebook cells\n",
       "var notebookContainer = gd.closest('#notebook-container');\n",
       "if (notebookContainer) {{\n",
       "    x.observe(notebookContainer, {childList: true});\n",
       "}}\n",
       "\n",
       "// Listen for the clearing of the current output cell\n",
       "var outputEl = gd.closest('.output');\n",
       "if (outputEl) {{\n",
       "    x.observe(outputEl, {childList: true});\n",
       "}}\n",
       "\n",
       "                        })                };                });            </script>        </div>"
      ]
     },
     "metadata": {},
     "output_type": "display_data"
    }
   ],
   "source": [
    "# plotting monthly revenue\n",
    "\n",
    "plot_data = [\n",
    "    go.Scatter(\n",
    "        x=df_revenue['InvoiceYearMonth'],\n",
    "        y=df_revenue['Revenue'],\n",
    "        mode='lines+markers'\n",
    "    )\n",
    "]\n",
    "\n",
    "plot_layout = go.Layout(\n",
    "        xaxis={\"type\": \"category\"},\n",
    "        title='Montly Revenue'\n",
    "    )\n",
    "fig = go.Figure(data=plot_data, layout=plot_layout)\n",
    "pyoff.iplot(fig)"
   ]
  },
  {
   "cell_type": "markdown",
   "id": "79e89b2f",
   "metadata": {},
   "source": [
    "## RFM Analysis\n",
    "\n",
    "I am going to calculate values for Recency, Frequency, and Monetary. These three values will make up for RFM value that will be used for K-means clustering analysis. \n",
    "\n",
    "* Recency: number of date since last purchased. I am using 'Now' date - last invoice date.\n",
    "* Frequency: how often customer buys. I am going to examine number of invoice per customer.\n",
    "* Monetary: total value of purchases from each customer. I am going to compute for the sum of sales value of all orders for each customer."
   ]
  },
  {
   "cell_type": "markdown",
   "id": "143e4e4e",
   "metadata": {},
   "source": [
    "### Recency"
   ]
  },
  {
   "cell_type": "code",
   "execution_count": 124,
   "id": "22ae577e",
   "metadata": {
    "ExecuteTime": {
     "end_time": "2021-08-23T00:11:23.101557Z",
     "start_time": "2021-08-23T00:11:23.091387Z"
    }
   },
   "outputs": [
    {
     "data": {
      "text/plain": [
       "(Timestamp('2010-12-01 00:00:00'), Timestamp('2011-12-01 00:00:00'))"
      ]
     },
     "execution_count": 124,
     "metadata": {},
     "output_type": "execute_result"
    }
   ],
   "source": [
    "# what's the last invoice date overall?\n",
    "df['Date'].min(), df['Date'].max()"
   ]
  },
  {
   "cell_type": "code",
   "execution_count": 125,
   "id": "d6b10771",
   "metadata": {
    "ExecuteTime": {
     "end_time": "2021-08-23T00:11:23.229286Z",
     "start_time": "2021-08-23T00:11:23.106103Z"
    }
   },
   "outputs": [],
   "source": [
    "# last invoice date is 2011-12-09, using this date to calculate recency\n",
    "NOW = dt.date(2011,12,9) \n",
    "df['Date'] = pd.DatetimeIndex(df.InvoiceDate).date"
   ]
  },
  {
   "cell_type": "code",
   "execution_count": 126,
   "id": "723034e4",
   "metadata": {
    "ExecuteTime": {
     "end_time": "2021-08-23T00:11:23.735851Z",
     "start_time": "2021-08-23T00:11:23.231571Z"
    }
   },
   "outputs": [
    {
     "data": {
      "text/html": [
       "<div>\n",
       "<style scoped>\n",
       "    .dataframe tbody tr th:only-of-type {\n",
       "        vertical-align: middle;\n",
       "    }\n",
       "\n",
       "    .dataframe tbody tr th {\n",
       "        vertical-align: top;\n",
       "    }\n",
       "\n",
       "    .dataframe thead th {\n",
       "        text-align: right;\n",
       "    }\n",
       "</style>\n",
       "<table border=\"1\" class=\"dataframe\">\n",
       "  <thead>\n",
       "    <tr style=\"text-align: right;\">\n",
       "      <th></th>\n",
       "      <th>CustomerID</th>\n",
       "      <th>Recency</th>\n",
       "    </tr>\n",
       "  </thead>\n",
       "  <tbody>\n",
       "    <tr>\n",
       "      <th>0</th>\n",
       "      <td>12346.0</td>\n",
       "      <td>325</td>\n",
       "    </tr>\n",
       "    <tr>\n",
       "      <th>1</th>\n",
       "      <td>12747.0</td>\n",
       "      <td>2</td>\n",
       "    </tr>\n",
       "    <tr>\n",
       "      <th>2</th>\n",
       "      <td>12748.0</td>\n",
       "      <td>0</td>\n",
       "    </tr>\n",
       "    <tr>\n",
       "      <th>3</th>\n",
       "      <td>12749.0</td>\n",
       "      <td>3</td>\n",
       "    </tr>\n",
       "    <tr>\n",
       "      <th>4</th>\n",
       "      <td>12820.0</td>\n",
       "      <td>3</td>\n",
       "    </tr>\n",
       "  </tbody>\n",
       "</table>\n",
       "</div>"
      ],
      "text/plain": [
       "   CustomerID  Recency\n",
       "0     12346.0      325\n",
       "1     12747.0        2\n",
       "2     12748.0        0\n",
       "3     12749.0        3\n",
       "4     12820.0        3"
      ]
     },
     "execution_count": 126,
     "metadata": {},
     "output_type": "execute_result"
    }
   ],
   "source": [
    "# calculate for recency value\n",
    "df_recency = df.groupby(['CustomerID'],as_index=False)['Date'].max()\n",
    "df_recency.columns = ['CustomerID','Last_Purchase_Date']\n",
    "\n",
    "df_recency['Recency'] = df_recency.Last_Purchase_Date.apply(lambda x:(NOW - x).days)\n",
    "df_recency.drop(columns=['Last_Purchase_Date'],inplace=True)\n",
    "df_recency.head()"
   ]
  },
  {
   "cell_type": "markdown",
   "id": "85394459",
   "metadata": {},
   "source": [
    "### Frequency and Monetary"
   ]
  },
  {
   "cell_type": "code",
   "execution_count": 127,
   "id": "1ecec362",
   "metadata": {
    "ExecuteTime": {
     "end_time": "2021-08-23T00:11:24.039736Z",
     "start_time": "2021-08-23T00:11:23.737994Z"
    }
   },
   "outputs": [
    {
     "data": {
      "text/html": [
       "<div>\n",
       "<style scoped>\n",
       "    .dataframe tbody tr th:only-of-type {\n",
       "        vertical-align: middle;\n",
       "    }\n",
       "\n",
       "    .dataframe tbody tr th {\n",
       "        vertical-align: top;\n",
       "    }\n",
       "\n",
       "    .dataframe thead th {\n",
       "        text-align: right;\n",
       "    }\n",
       "</style>\n",
       "<table border=\"1\" class=\"dataframe\">\n",
       "  <thead>\n",
       "    <tr style=\"text-align: right;\">\n",
       "      <th></th>\n",
       "      <th>Frequency</th>\n",
       "      <th>Monetary</th>\n",
       "    </tr>\n",
       "    <tr>\n",
       "      <th>CustomerID</th>\n",
       "      <th></th>\n",
       "      <th></th>\n",
       "    </tr>\n",
       "  </thead>\n",
       "  <tbody>\n",
       "    <tr>\n",
       "      <th>12346.0</th>\n",
       "      <td>1</td>\n",
       "      <td>77183.60</td>\n",
       "    </tr>\n",
       "    <tr>\n",
       "      <th>12747.0</th>\n",
       "      <td>103</td>\n",
       "      <td>4196.01</td>\n",
       "    </tr>\n",
       "    <tr>\n",
       "      <th>12748.0</th>\n",
       "      <td>4595</td>\n",
       "      <td>33719.73</td>\n",
       "    </tr>\n",
       "    <tr>\n",
       "      <th>12749.0</th>\n",
       "      <td>199</td>\n",
       "      <td>4090.88</td>\n",
       "    </tr>\n",
       "    <tr>\n",
       "      <th>12820.0</th>\n",
       "      <td>59</td>\n",
       "      <td>942.34</td>\n",
       "    </tr>\n",
       "  </tbody>\n",
       "</table>\n",
       "</div>"
      ],
      "text/plain": [
       "            Frequency  Monetary\n",
       "CustomerID                     \n",
       "12346.0             1  77183.60\n",
       "12747.0           103   4196.01\n",
       "12748.0          4595  33719.73\n",
       "12749.0           199   4090.88\n",
       "12820.0            59    942.34"
      ]
     },
     "execution_count": 127,
     "metadata": {},
     "output_type": "execute_result"
    }
   ],
   "source": [
    "FM_Table = df.groupby('CustomerID').agg({'InvoiceNo'   : lambda x:len(x),\n",
    "                                         'Revenue'  : lambda x:x.sum()})\n",
    "FM_Table.rename(columns = {'InvoiceNo' :'Frequency',\n",
    "                           'Revenue':'Monetary'},inplace= True)\n",
    "FM_Table.head()"
   ]
  },
  {
   "cell_type": "markdown",
   "id": "f29a579e",
   "metadata": {},
   "source": [
    "### RFM Table"
   ]
  },
  {
   "cell_type": "code",
   "execution_count": 128,
   "id": "40daff4b",
   "metadata": {
    "ExecuteTime": {
     "end_time": "2021-08-23T00:11:24.060265Z",
     "start_time": "2021-08-23T00:11:24.043167Z"
    }
   },
   "outputs": [
    {
     "data": {
      "text/html": [
       "<div>\n",
       "<style scoped>\n",
       "    .dataframe tbody tr th:only-of-type {\n",
       "        vertical-align: middle;\n",
       "    }\n",
       "\n",
       "    .dataframe tbody tr th {\n",
       "        vertical-align: top;\n",
       "    }\n",
       "\n",
       "    .dataframe thead th {\n",
       "        text-align: right;\n",
       "    }\n",
       "</style>\n",
       "<table border=\"1\" class=\"dataframe\">\n",
       "  <thead>\n",
       "    <tr style=\"text-align: right;\">\n",
       "      <th></th>\n",
       "      <th>CustomerID</th>\n",
       "      <th>Recency</th>\n",
       "      <th>Frequency</th>\n",
       "      <th>Monetary</th>\n",
       "    </tr>\n",
       "  </thead>\n",
       "  <tbody>\n",
       "    <tr>\n",
       "      <th>0</th>\n",
       "      <td>12346.0</td>\n",
       "      <td>325</td>\n",
       "      <td>1</td>\n",
       "      <td>77183.60</td>\n",
       "    </tr>\n",
       "    <tr>\n",
       "      <th>1</th>\n",
       "      <td>12747.0</td>\n",
       "      <td>2</td>\n",
       "      <td>103</td>\n",
       "      <td>4196.01</td>\n",
       "    </tr>\n",
       "    <tr>\n",
       "      <th>2</th>\n",
       "      <td>12748.0</td>\n",
       "      <td>0</td>\n",
       "      <td>4595</td>\n",
       "      <td>33719.73</td>\n",
       "    </tr>\n",
       "    <tr>\n",
       "      <th>3</th>\n",
       "      <td>12749.0</td>\n",
       "      <td>3</td>\n",
       "      <td>199</td>\n",
       "      <td>4090.88</td>\n",
       "    </tr>\n",
       "    <tr>\n",
       "      <th>4</th>\n",
       "      <td>12820.0</td>\n",
       "      <td>3</td>\n",
       "      <td>59</td>\n",
       "      <td>942.34</td>\n",
       "    </tr>\n",
       "  </tbody>\n",
       "</table>\n",
       "</div>"
      ],
      "text/plain": [
       "   CustomerID  Recency  Frequency  Monetary\n",
       "0     12346.0      325          1  77183.60\n",
       "1     12747.0        2        103   4196.01\n",
       "2     12748.0        0       4595  33719.73\n",
       "3     12749.0        3        199   4090.88\n",
       "4     12820.0        3         59    942.34"
      ]
     },
     "execution_count": 128,
     "metadata": {},
     "output_type": "execute_result"
    }
   ],
   "source": [
    "RFM_Table = df_recency.merge(FM_Table,left_on='CustomerID',right_on='CustomerID')\n",
    "RFM_Table.head()"
   ]
  },
  {
   "cell_type": "code",
   "execution_count": 129,
   "id": "8d8760d9",
   "metadata": {
    "ExecuteTime": {
     "end_time": "2021-08-23T00:11:24.068035Z",
     "start_time": "2021-08-23T00:11:24.062628Z"
    }
   },
   "outputs": [
    {
     "data": {
      "text/plain": [
       "True"
      ]
     },
     "execution_count": 129,
     "metadata": {},
     "output_type": "execute_result"
    }
   ],
   "source": [
    "# double checking recency for customerID 12346\n",
    "(NOW - dt.date(2011,1,18)).days == 325"
   ]
  },
  {
   "cell_type": "markdown",
   "id": "de5f4ebf",
   "metadata": {},
   "source": [
    "### Condition for RFM Quartiles\n",
    "\n",
    "Splitting rfm metrics into segments using quantiles. Will assign a score from 1 to 4 for each recency, frequency, and monetary. 1 is the highest, 4 is the lowest. At the end, I will combine these scores to create the final RFM score."
   ]
  },
  {
   "cell_type": "code",
   "execution_count": 130,
   "id": "33ff548a",
   "metadata": {
    "ExecuteTime": {
     "end_time": "2021-08-23T00:11:24.080447Z",
     "start_time": "2021-08-23T00:11:24.070714Z"
    }
   },
   "outputs": [],
   "source": [
    "# creating quantile\n",
    "quantiles = RFM_Table.quantile(q=[0.25,0.50,0.75])\n",
    "quantiles = quantiles.to_dict()\n",
    "\n",
    "segmented_rfm = RFM_Table.copy()"
   ]
  },
  {
   "cell_type": "code",
   "execution_count": 131,
   "id": "bb1535b1",
   "metadata": {
    "ExecuteTime": {
     "end_time": "2021-08-23T00:11:24.096611Z",
     "start_time": "2021-08-23T00:11:24.083199Z"
    }
   },
   "outputs": [],
   "source": [
    "# defining the condition for recency score, opposite of the other two because smaller recency is good\n",
    "def RScore(x,p,d):\n",
    "    if x <= d[p][0.25]:\n",
    "        return 1\n",
    "    elif x <= d[p][0.50]:\n",
    "        return 2\n",
    "    elif x <= d[p][0.75]: \n",
    "        return 3\n",
    "    else:\n",
    "        return 4\n",
    "    \n",
    "# defining the condition for frequency and monetary scores, larger frequency and monetary score is good\n",
    "def FMScore(x,p,d):\n",
    "    if x <= d[p][0.25]:\n",
    "        return 4\n",
    "    elif x <= d[p][0.50]:\n",
    "        return 3\n",
    "    elif x <= d[p][0.75]: \n",
    "        return 2\n",
    "    else:\n",
    "        return 1"
   ]
  },
  {
   "cell_type": "code",
   "execution_count": 132,
   "id": "c5e68382",
   "metadata": {
    "ExecuteTime": {
     "end_time": "2021-08-23T00:11:24.190459Z",
     "start_time": "2021-08-23T00:11:24.100468Z"
    }
   },
   "outputs": [
    {
     "data": {
      "text/html": [
       "<div>\n",
       "<style scoped>\n",
       "    .dataframe tbody tr th:only-of-type {\n",
       "        vertical-align: middle;\n",
       "    }\n",
       "\n",
       "    .dataframe tbody tr th {\n",
       "        vertical-align: top;\n",
       "    }\n",
       "\n",
       "    .dataframe thead th {\n",
       "        text-align: right;\n",
       "    }\n",
       "</style>\n",
       "<table border=\"1\" class=\"dataframe\">\n",
       "  <thead>\n",
       "    <tr style=\"text-align: right;\">\n",
       "      <th></th>\n",
       "      <th>CustomerID</th>\n",
       "      <th>Recency</th>\n",
       "      <th>Frequency</th>\n",
       "      <th>Monetary</th>\n",
       "      <th>R_quartile</th>\n",
       "      <th>F_quartile</th>\n",
       "      <th>M_quartile</th>\n",
       "    </tr>\n",
       "  </thead>\n",
       "  <tbody>\n",
       "    <tr>\n",
       "      <th>0</th>\n",
       "      <td>12346.0</td>\n",
       "      <td>325</td>\n",
       "      <td>1</td>\n",
       "      <td>77183.60</td>\n",
       "      <td>4</td>\n",
       "      <td>4</td>\n",
       "      <td>1</td>\n",
       "    </tr>\n",
       "    <tr>\n",
       "      <th>1</th>\n",
       "      <td>12747.0</td>\n",
       "      <td>2</td>\n",
       "      <td>103</td>\n",
       "      <td>4196.01</td>\n",
       "      <td>1</td>\n",
       "      <td>1</td>\n",
       "      <td>1</td>\n",
       "    </tr>\n",
       "    <tr>\n",
       "      <th>2</th>\n",
       "      <td>12748.0</td>\n",
       "      <td>0</td>\n",
       "      <td>4595</td>\n",
       "      <td>33719.73</td>\n",
       "      <td>1</td>\n",
       "      <td>1</td>\n",
       "      <td>1</td>\n",
       "    </tr>\n",
       "    <tr>\n",
       "      <th>3</th>\n",
       "      <td>12749.0</td>\n",
       "      <td>3</td>\n",
       "      <td>199</td>\n",
       "      <td>4090.88</td>\n",
       "      <td>1</td>\n",
       "      <td>1</td>\n",
       "      <td>1</td>\n",
       "    </tr>\n",
       "    <tr>\n",
       "      <th>4</th>\n",
       "      <td>12820.0</td>\n",
       "      <td>3</td>\n",
       "      <td>59</td>\n",
       "      <td>942.34</td>\n",
       "      <td>1</td>\n",
       "      <td>2</td>\n",
       "      <td>2</td>\n",
       "    </tr>\n",
       "  </tbody>\n",
       "</table>\n",
       "</div>"
      ],
      "text/plain": [
       "   CustomerID  Recency  Frequency  Monetary  R_quartile  F_quartile  \\\n",
       "0     12346.0      325          1  77183.60           4           4   \n",
       "1     12747.0        2        103   4196.01           1           1   \n",
       "2     12748.0        0       4595  33719.73           1           1   \n",
       "3     12749.0        3        199   4090.88           1           1   \n",
       "4     12820.0        3         59    942.34           1           2   \n",
       "\n",
       "   M_quartile  \n",
       "0           1  \n",
       "1           1  \n",
       "2           1  \n",
       "3           1  \n",
       "4           2  "
      ]
     },
     "execution_count": 132,
     "metadata": {},
     "output_type": "execute_result"
    }
   ],
   "source": [
    "# create quantile dataframe\n",
    "segmented_rfm['R_quartile'] = segmented_rfm['Recency'].apply(RScore, args=('Recency',quantiles))\n",
    "segmented_rfm['F_quartile'] = segmented_rfm['Frequency'].apply(FMScore, args=('Frequency',quantiles))\n",
    "segmented_rfm['M_quartile'] = segmented_rfm['Monetary'].apply(FMScore, args=('Monetary',quantiles))\n",
    "segmented_rfm.head()"
   ]
  },
  {
   "cell_type": "markdown",
   "id": "28d6deaf",
   "metadata": {},
   "source": [
    "### RFM Segment and Score\n",
    "\n",
    "RFM_Score = R_quartile + F_quartile + M_quartile"
   ]
  },
  {
   "cell_type": "code",
   "execution_count": 133,
   "id": "769b9583",
   "metadata": {
    "ExecuteTime": {
     "end_time": "2021-08-23T00:11:24.210404Z",
     "start_time": "2021-08-23T00:11:24.192768Z"
    }
   },
   "outputs": [
    {
     "data": {
      "text/html": [
       "<div>\n",
       "<style scoped>\n",
       "    .dataframe tbody tr th:only-of-type {\n",
       "        vertical-align: middle;\n",
       "    }\n",
       "\n",
       "    .dataframe tbody tr th {\n",
       "        vertical-align: top;\n",
       "    }\n",
       "\n",
       "    .dataframe thead th {\n",
       "        text-align: right;\n",
       "    }\n",
       "</style>\n",
       "<table border=\"1\" class=\"dataframe\">\n",
       "  <thead>\n",
       "    <tr style=\"text-align: right;\">\n",
       "      <th></th>\n",
       "      <th>CustomerID</th>\n",
       "      <th>Recency</th>\n",
       "      <th>Frequency</th>\n",
       "      <th>Monetary</th>\n",
       "      <th>R_quartile</th>\n",
       "      <th>F_quartile</th>\n",
       "      <th>M_quartile</th>\n",
       "      <th>RFM_Segment</th>\n",
       "    </tr>\n",
       "  </thead>\n",
       "  <tbody>\n",
       "    <tr>\n",
       "      <th>0</th>\n",
       "      <td>12346.0</td>\n",
       "      <td>325</td>\n",
       "      <td>1</td>\n",
       "      <td>77183.60</td>\n",
       "      <td>4</td>\n",
       "      <td>4</td>\n",
       "      <td>1</td>\n",
       "      <td>441</td>\n",
       "    </tr>\n",
       "    <tr>\n",
       "      <th>1</th>\n",
       "      <td>12747.0</td>\n",
       "      <td>2</td>\n",
       "      <td>103</td>\n",
       "      <td>4196.01</td>\n",
       "      <td>1</td>\n",
       "      <td>1</td>\n",
       "      <td>1</td>\n",
       "      <td>111</td>\n",
       "    </tr>\n",
       "    <tr>\n",
       "      <th>2</th>\n",
       "      <td>12748.0</td>\n",
       "      <td>0</td>\n",
       "      <td>4595</td>\n",
       "      <td>33719.73</td>\n",
       "      <td>1</td>\n",
       "      <td>1</td>\n",
       "      <td>1</td>\n",
       "      <td>111</td>\n",
       "    </tr>\n",
       "    <tr>\n",
       "      <th>3</th>\n",
       "      <td>12749.0</td>\n",
       "      <td>3</td>\n",
       "      <td>199</td>\n",
       "      <td>4090.88</td>\n",
       "      <td>1</td>\n",
       "      <td>1</td>\n",
       "      <td>1</td>\n",
       "      <td>111</td>\n",
       "    </tr>\n",
       "    <tr>\n",
       "      <th>4</th>\n",
       "      <td>12820.0</td>\n",
       "      <td>3</td>\n",
       "      <td>59</td>\n",
       "      <td>942.34</td>\n",
       "      <td>1</td>\n",
       "      <td>2</td>\n",
       "      <td>2</td>\n",
       "      <td>122</td>\n",
       "    </tr>\n",
       "  </tbody>\n",
       "</table>\n",
       "</div>"
      ],
      "text/plain": [
       "   CustomerID  Recency  Frequency  Monetary  R_quartile  F_quartile  \\\n",
       "0     12346.0      325          1  77183.60           4           4   \n",
       "1     12747.0        2        103   4196.01           1           1   \n",
       "2     12748.0        0       4595  33719.73           1           1   \n",
       "3     12749.0        3        199   4090.88           1           1   \n",
       "4     12820.0        3         59    942.34           1           2   \n",
       "\n",
       "   M_quartile RFM_Segment  \n",
       "0           1         441  \n",
       "1           1         111  \n",
       "2           1         111  \n",
       "3           1         111  \n",
       "4           2         122  "
      ]
     },
     "execution_count": 133,
     "metadata": {},
     "output_type": "execute_result"
    }
   ],
   "source": [
    "# combining all three quartile values to calculate for FRM segment\n",
    "segmented_rfm['RFM_Segment'] = segmented_rfm.R_quartile.map(str)+segmented_rfm.F_quartile.map(str)+segmented_rfm.M_quartile.map(str)\n",
    "\n",
    "segmented_rfm.head()"
   ]
  },
  {
   "cell_type": "code",
   "execution_count": 134,
   "id": "2760ae01",
   "metadata": {
    "ExecuteTime": {
     "end_time": "2021-08-23T00:11:24.226896Z",
     "start_time": "2021-08-23T00:11:24.212575Z"
    }
   },
   "outputs": [
    {
     "data": {
      "text/html": [
       "<div>\n",
       "<style scoped>\n",
       "    .dataframe tbody tr th:only-of-type {\n",
       "        vertical-align: middle;\n",
       "    }\n",
       "\n",
       "    .dataframe tbody tr th {\n",
       "        vertical-align: top;\n",
       "    }\n",
       "\n",
       "    .dataframe thead th {\n",
       "        text-align: right;\n",
       "    }\n",
       "</style>\n",
       "<table border=\"1\" class=\"dataframe\">\n",
       "  <thead>\n",
       "    <tr style=\"text-align: right;\">\n",
       "      <th></th>\n",
       "      <th>CustomerID</th>\n",
       "      <th>Recency</th>\n",
       "      <th>Frequency</th>\n",
       "      <th>Monetary</th>\n",
       "      <th>R_quartile</th>\n",
       "      <th>F_quartile</th>\n",
       "      <th>M_quartile</th>\n",
       "      <th>RFM_Segment</th>\n",
       "      <th>RFM_Score</th>\n",
       "    </tr>\n",
       "  </thead>\n",
       "  <tbody>\n",
       "    <tr>\n",
       "      <th>0</th>\n",
       "      <td>12346.0</td>\n",
       "      <td>325</td>\n",
       "      <td>1</td>\n",
       "      <td>77183.60</td>\n",
       "      <td>4</td>\n",
       "      <td>4</td>\n",
       "      <td>1</td>\n",
       "      <td>441</td>\n",
       "      <td>9</td>\n",
       "    </tr>\n",
       "    <tr>\n",
       "      <th>1</th>\n",
       "      <td>12747.0</td>\n",
       "      <td>2</td>\n",
       "      <td>103</td>\n",
       "      <td>4196.01</td>\n",
       "      <td>1</td>\n",
       "      <td>1</td>\n",
       "      <td>1</td>\n",
       "      <td>111</td>\n",
       "      <td>3</td>\n",
       "    </tr>\n",
       "    <tr>\n",
       "      <th>2</th>\n",
       "      <td>12748.0</td>\n",
       "      <td>0</td>\n",
       "      <td>4595</td>\n",
       "      <td>33719.73</td>\n",
       "      <td>1</td>\n",
       "      <td>1</td>\n",
       "      <td>1</td>\n",
       "      <td>111</td>\n",
       "      <td>3</td>\n",
       "    </tr>\n",
       "    <tr>\n",
       "      <th>3</th>\n",
       "      <td>12749.0</td>\n",
       "      <td>3</td>\n",
       "      <td>199</td>\n",
       "      <td>4090.88</td>\n",
       "      <td>1</td>\n",
       "      <td>1</td>\n",
       "      <td>1</td>\n",
       "      <td>111</td>\n",
       "      <td>3</td>\n",
       "    </tr>\n",
       "    <tr>\n",
       "      <th>4</th>\n",
       "      <td>12820.0</td>\n",
       "      <td>3</td>\n",
       "      <td>59</td>\n",
       "      <td>942.34</td>\n",
       "      <td>1</td>\n",
       "      <td>2</td>\n",
       "      <td>2</td>\n",
       "      <td>122</td>\n",
       "      <td>5</td>\n",
       "    </tr>\n",
       "  </tbody>\n",
       "</table>\n",
       "</div>"
      ],
      "text/plain": [
       "   CustomerID  Recency  Frequency  Monetary  R_quartile  F_quartile  \\\n",
       "0     12346.0      325          1  77183.60           4           4   \n",
       "1     12747.0        2        103   4196.01           1           1   \n",
       "2     12748.0        0       4595  33719.73           1           1   \n",
       "3     12749.0        3        199   4090.88           1           1   \n",
       "4     12820.0        3         59    942.34           1           2   \n",
       "\n",
       "   M_quartile RFM_Segment  RFM_Score  \n",
       "0           1         441          9  \n",
       "1           1         111          3  \n",
       "2           1         111          3  \n",
       "3           1         111          3  \n",
       "4           2         122          5  "
      ]
     },
     "execution_count": 134,
     "metadata": {},
     "output_type": "execute_result"
    }
   ],
   "source": [
    "# summing up the rfm quartile to create rfm score\n",
    "segmented_rfm['RFM_Score'] = segmented_rfm[['R_quartile','F_quartile','M_quartile']].sum(axis=1)\n",
    "segmented_rfm.head()"
   ]
  },
  {
   "cell_type": "code",
   "execution_count": 135,
   "id": "8d7e0068",
   "metadata": {
    "ExecuteTime": {
     "end_time": "2021-08-23T00:11:24.242804Z",
     "start_time": "2021-08-23T00:11:24.230042Z"
    }
   },
   "outputs": [
    {
     "name": "stdout",
     "output_type": "stream",
     "text": [
      "Best Customers:  409\n",
      "Loyal Customers:  980\n",
      "Big Spenders:  980\n",
      "Almost Lost:  21\n",
      "Lost Customers:  168\n",
      "Lost Cheap Customers:  343\n"
     ]
    }
   ],
   "source": [
    "# insight on our customer groups\n",
    "print(\"Best Customers: \",len(segmented_rfm[segmented_rfm['RFM_Segment']=='111']))\n",
    "print('Loyal Customers: ',len(segmented_rfm[segmented_rfm['F_quartile']==1]))\n",
    "print(\"Big Spenders: \",len(segmented_rfm[segmented_rfm['M_quartile']==1]))\n",
    "print('Almost Lost: ', len(segmented_rfm[segmented_rfm['RFM_Segment']=='134']))\n",
    "print('Lost Customers: ',len(segmented_rfm[segmented_rfm['RFM_Segment']=='344']))\n",
    "print('Lost Cheap Customers: ',len(segmented_rfm[segmented_rfm['RFM_Segment']=='444']))"
   ]
  },
  {
   "cell_type": "code",
   "execution_count": 136,
   "id": "2000ef42",
   "metadata": {
    "ExecuteTime": {
     "end_time": "2021-08-23T00:11:24.263307Z",
     "start_time": "2021-08-23T00:11:24.245340Z"
    }
   },
   "outputs": [
    {
     "data": {
      "text/plain": [
       "array([ 9,  3,  5, 12,  7,  8,  6, 10, 11,  4])"
      ]
     },
     "execution_count": 136,
     "metadata": {},
     "output_type": "execute_result"
    }
   ],
   "source": [
    "# finding all the unique rfm score\n",
    "segmented_rfm['RFM_Score'].unique()"
   ]
  },
  {
   "cell_type": "code",
   "execution_count": 137,
   "id": "a11581da",
   "metadata": {
    "ExecuteTime": {
     "end_time": "2021-08-23T00:11:24.289711Z",
     "start_time": "2021-08-23T00:11:24.265456Z"
    }
   },
   "outputs": [
    {
     "data": {
      "text/html": [
       "<div>\n",
       "<style scoped>\n",
       "    .dataframe tbody tr th:only-of-type {\n",
       "        vertical-align: middle;\n",
       "    }\n",
       "\n",
       "    .dataframe tbody tr th {\n",
       "        vertical-align: top;\n",
       "    }\n",
       "\n",
       "    .dataframe thead tr th {\n",
       "        text-align: left;\n",
       "    }\n",
       "\n",
       "    .dataframe thead tr:last-of-type th {\n",
       "        text-align: right;\n",
       "    }\n",
       "</style>\n",
       "<table border=\"1\" class=\"dataframe\">\n",
       "  <thead>\n",
       "    <tr>\n",
       "      <th></th>\n",
       "      <th>Recency</th>\n",
       "      <th>Frequency</th>\n",
       "      <th colspan=\"2\" halign=\"left\">Monetary</th>\n",
       "    </tr>\n",
       "    <tr>\n",
       "      <th></th>\n",
       "      <th>mean</th>\n",
       "      <th>mean</th>\n",
       "      <th>mean</th>\n",
       "      <th>count</th>\n",
       "    </tr>\n",
       "    <tr>\n",
       "      <th>RFM_Score</th>\n",
       "      <th></th>\n",
       "      <th></th>\n",
       "      <th></th>\n",
       "      <th></th>\n",
       "    </tr>\n",
       "  </thead>\n",
       "  <tbody>\n",
       "    <tr>\n",
       "      <th>3</th>\n",
       "      <td>6.6</td>\n",
       "      <td>363.7</td>\n",
       "      <td>8218.2</td>\n",
       "      <td>409</td>\n",
       "    </tr>\n",
       "    <tr>\n",
       "      <th>4</th>\n",
       "      <td>20.3</td>\n",
       "      <td>187.0</td>\n",
       "      <td>3492.1</td>\n",
       "      <td>345</td>\n",
       "    </tr>\n",
       "    <tr>\n",
       "      <th>5</th>\n",
       "      <td>32.0</td>\n",
       "      <td>113.3</td>\n",
       "      <td>1909.4</td>\n",
       "      <td>386</td>\n",
       "    </tr>\n",
       "    <tr>\n",
       "      <th>6</th>\n",
       "      <td>47.0</td>\n",
       "      <td>78.9</td>\n",
       "      <td>1806.6</td>\n",
       "      <td>380</td>\n",
       "    </tr>\n",
       "    <tr>\n",
       "      <th>7</th>\n",
       "      <td>60.5</td>\n",
       "      <td>55.4</td>\n",
       "      <td>917.1</td>\n",
       "      <td>408</td>\n",
       "    </tr>\n",
       "    <tr>\n",
       "      <th>8</th>\n",
       "      <td>78.1</td>\n",
       "      <td>38.5</td>\n",
       "      <td>733.0</td>\n",
       "      <td>393</td>\n",
       "    </tr>\n",
       "    <tr>\n",
       "      <th>9</th>\n",
       "      <td>96.7</td>\n",
       "      <td>28.4</td>\n",
       "      <td>829.5</td>\n",
       "      <td>424</td>\n",
       "    </tr>\n",
       "    <tr>\n",
       "      <th>10</th>\n",
       "      <td>153.0</td>\n",
       "      <td>21.0</td>\n",
       "      <td>357.0</td>\n",
       "      <td>470</td>\n",
       "    </tr>\n",
       "    <tr>\n",
       "      <th>11</th>\n",
       "      <td>174.0</td>\n",
       "      <td>13.7</td>\n",
       "      <td>234.2</td>\n",
       "      <td>362</td>\n",
       "    </tr>\n",
       "    <tr>\n",
       "      <th>12</th>\n",
       "      <td>257.9</td>\n",
       "      <td>8.1</td>\n",
       "      <td>152.3</td>\n",
       "      <td>343</td>\n",
       "    </tr>\n",
       "  </tbody>\n",
       "</table>\n",
       "</div>"
      ],
      "text/plain": [
       "          Recency Frequency Monetary      \n",
       "             mean      mean     mean count\n",
       "RFM_Score                                 \n",
       "3             6.6     363.7   8218.2   409\n",
       "4            20.3     187.0   3492.1   345\n",
       "5            32.0     113.3   1909.4   386\n",
       "6            47.0      78.9   1806.6   380\n",
       "7            60.5      55.4    917.1   408\n",
       "8            78.1      38.5    733.0   393\n",
       "9            96.7      28.4    829.5   424\n",
       "10          153.0      21.0    357.0   470\n",
       "11          174.0      13.7    234.2   362\n",
       "12          257.9       8.1    152.3   343"
      ]
     },
     "execution_count": 137,
     "metadata": {},
     "output_type": "execute_result"
    }
   ],
   "source": [
    "# rfm score table and info\n",
    "segmented_rfm.groupby('RFM_Score').agg({\n",
    "    'Recency': 'mean',\n",
    "    'Frequency': 'mean',\n",
    "    'Monetary': ['mean', 'count'] }).round(1)"
   ]
  },
  {
   "cell_type": "markdown",
   "id": "99a7ff3b",
   "metadata": {},
   "source": [
    "The lower the FRM_score, the more valueble the customer."
   ]
  },
  {
   "cell_type": "markdown",
   "id": "ae0ed64c",
   "metadata": {},
   "source": [
    "# K-Means Clusterings\n",
    "\n",
    "Using k-means clustering to group customers based on their rfm scores. Windsor can use outputs from this insights to do target each group of customers with different marketing treatment for best sales/retention results based on cusomters purchasing behavior.\n",
    "\n",
    "**For this analysis, I will validate the data quality and kmeans in two ways:**\n",
    "\n",
    "1. Plotting distribution charts to check for skewness\n",
    "2. Silhouette Score\n",
    "\n",
    "k-means works well when the data is not skewed"
   ]
  },
  {
   "cell_type": "markdown",
   "id": "d29723e0",
   "metadata": {},
   "source": [
    "## Skewness\n",
    "\n",
    "A normally distributed (or close to normal) target variable helps in better modeling the relationship between target and independent variables."
   ]
  },
  {
   "cell_type": "code",
   "execution_count": 138,
   "id": "91ddbe91",
   "metadata": {
    "ExecuteTime": {
     "end_time": "2021-08-23T00:11:25.026112Z",
     "start_time": "2021-08-23T00:11:24.292163Z"
    }
   },
   "outputs": [
    {
     "name": "stdout",
     "output_type": "stream",
     "text": [
      "Recency's: Skew: 1.244516494686479, : SkewtestResult(statistic=25.283720058978158, pvalue=4.8246481722257944e-141)\n",
      "Frequency's: Skew: 18.66163311873067, : SkewtestResult(statistic=80.10349526126947, pvalue=0.0)\n",
      "Monetary's: Skew: 20.190728787200957, : SkewtestResult(statistic=81.75346911703686, pvalue=0.0)\n"
     ]
    },
    {
     "data": {
      "image/png": "[encoded data removed]",
      "text/plain": [
       "<Figure size 648x648 with 3 Axes>"
      ]
     },
     "metadata": {
      "needs_background": "light"
     },
     "output_type": "display_data"
    }
   ],
   "source": [
    "## function to check skewness\n",
    "def check_skew(df_skew, column):\n",
    "    skew = stats.skew(df_skew[column])\n",
    "    skewtest = stats.skewtest(df_skew[column])\n",
    "    plt.title('Distribution of ' + column)\n",
    "    sns.distplot(df_skew[column])\n",
    "    print(\"{}'s: Skew: {}, : {}\".format(column, skew, skewtest))\n",
    "    return\n",
    "\n",
    "# Plot all 3 graphs together for summary findings\n",
    "plt.figure(figsize=(9, 9))\n",
    "\n",
    "plt.subplot(3, 1, 1)\n",
    "check_skew(RFM_Table,'Recency')\n",
    "\n",
    "plt.subplot(3, 1, 2)\n",
    "check_skew(RFM_Table,'Frequency')\n",
    "\n",
    "plt.subplot(3, 1, 3)\n",
    "check_skew(RFM_Table,'Monetary')\n",
    "\n",
    "plt.tight_layout()"
   ]
  },
  {
   "cell_type": "markdown",
   "id": "a35d9a7c",
   "metadata": {},
   "source": [
    "All three graphs are highly skewed. Log transformation will be used to reduce the skewness of each variable. "
   ]
  },
  {
   "cell_type": "code",
   "execution_count": 139,
   "id": "2ba6da0c",
   "metadata": {
    "ExecuteTime": {
     "end_time": "2021-08-23T00:11:25.033500Z",
     "start_time": "2021-08-23T00:11:25.029092Z"
    }
   },
   "outputs": [],
   "source": [
    "# another way to view this table\n",
    "#cols=['Recency','Frequency','Monetary']\n",
    "#df_rfm_log = RFM_Table[cols]"
   ]
  },
  {
   "cell_type": "code",
   "execution_count": 140,
   "id": "9877d449",
   "metadata": {
    "ExecuteTime": {
     "end_time": "2021-08-23T00:11:25.049290Z",
     "start_time": "2021-08-23T00:11:25.036120Z"
    }
   },
   "outputs": [
    {
     "data": {
      "text/html": [
       "<div>\n",
       "<style scoped>\n",
       "    .dataframe tbody tr th:only-of-type {\n",
       "        vertical-align: middle;\n",
       "    }\n",
       "\n",
       "    .dataframe tbody tr th {\n",
       "        vertical-align: top;\n",
       "    }\n",
       "\n",
       "    .dataframe thead th {\n",
       "        text-align: right;\n",
       "    }\n",
       "</style>\n",
       "<table border=\"1\" class=\"dataframe\">\n",
       "  <thead>\n",
       "    <tr style=\"text-align: right;\">\n",
       "      <th></th>\n",
       "      <th>CustomerID</th>\n",
       "      <th>Recency</th>\n",
       "      <th>Frequency</th>\n",
       "      <th>Monetary</th>\n",
       "    </tr>\n",
       "  </thead>\n",
       "  <tbody>\n",
       "    <tr>\n",
       "      <th>0</th>\n",
       "      <td>12346.0</td>\n",
       "      <td>325</td>\n",
       "      <td>1</td>\n",
       "      <td>77183.60</td>\n",
       "    </tr>\n",
       "    <tr>\n",
       "      <th>1</th>\n",
       "      <td>12747.0</td>\n",
       "      <td>2</td>\n",
       "      <td>103</td>\n",
       "      <td>4196.01</td>\n",
       "    </tr>\n",
       "    <tr>\n",
       "      <th>2</th>\n",
       "      <td>12748.0</td>\n",
       "      <td>0</td>\n",
       "      <td>4595</td>\n",
       "      <td>33719.73</td>\n",
       "    </tr>\n",
       "    <tr>\n",
       "      <th>3</th>\n",
       "      <td>12749.0</td>\n",
       "      <td>3</td>\n",
       "      <td>199</td>\n",
       "      <td>4090.88</td>\n",
       "    </tr>\n",
       "    <tr>\n",
       "      <th>4</th>\n",
       "      <td>12820.0</td>\n",
       "      <td>3</td>\n",
       "      <td>59</td>\n",
       "      <td>942.34</td>\n",
       "    </tr>\n",
       "  </tbody>\n",
       "</table>\n",
       "</div>"
      ],
      "text/plain": [
       "   CustomerID  Recency  Frequency  Monetary\n",
       "0     12346.0      325          1  77183.60\n",
       "1     12747.0        2        103   4196.01\n",
       "2     12748.0        0       4595  33719.73\n",
       "3     12749.0        3        199   4090.88\n",
       "4     12820.0        3         59    942.34"
      ]
     },
     "execution_count": 140,
     "metadata": {},
     "output_type": "execute_result"
    }
   ],
   "source": [
    "# viewing RFM_table and create a new variable for it\n",
    "df_rfm_log = RFM_Table.copy()\n",
    "df_rfm_log.head()"
   ]
  },
  {
   "cell_type": "markdown",
   "id": "4e0794d2",
   "metadata": {},
   "source": [
    "### Log Transformation to Normalize Skewed Data"
   ]
  },
  {
   "cell_type": "code",
   "execution_count": 141,
   "id": "b18658bc",
   "metadata": {
    "ExecuteTime": {
     "end_time": "2021-08-23T00:11:25.634742Z",
     "start_time": "2021-08-23T00:11:25.051623Z"
    }
   },
   "outputs": [
    {
     "name": "stdout",
     "output_type": "stream",
     "text": [
      "Recency's: Skew: -0.4635591539552193, : SkewtestResult(statistic=-11.314301280234206, pvalue=1.114869536941138e-29)\n",
      "Frequency's: Skew: -0.02600696239989871, : SkewtestResult(statistic=-0.6659021000684195, pvalue=0.5054736781086501)\n",
      "Monetary's: Skew: 0.3694308288045071, : SkewtestResult(statistic=9.166088768517884, pvalue=4.904929990328552e-20)\n"
     ]
    },
    {
     "data": {
      "image/png": "[encoded data removed]",
      "text/plain": [
       "<Figure size 648x648 with 3 Axes>"
      ]
     },
     "metadata": {
      "needs_background": "light"
     },
     "output_type": "display_data"
    }
   ],
   "source": [
    "# using log transformation to reduce skewness\n",
    "df_rfm_log = np.log(df_rfm_log+1)\n",
    "\n",
    "plt.figure(figsize=(9, 9))\n",
    "\n",
    "plt.subplot(3, 1, 1)\n",
    "check_skew(df_rfm_log,'Recency')\n",
    "\n",
    "plt.subplot(3, 1, 2)\n",
    "check_skew(df_rfm_log,'Frequency')\n",
    "plt.subplot(3, 1, 3)\n",
    "check_skew(df_rfm_log,'Monetary')\n",
    "\n",
    "plt.tight_layout()"
   ]
  },
  {
   "cell_type": "code",
   "execution_count": 142,
   "id": "70f3253f",
   "metadata": {
    "ExecuteTime": {
     "end_time": "2021-08-23T00:11:25.656166Z",
     "start_time": "2021-08-23T00:11:25.637379Z"
    }
   },
   "outputs": [
    {
     "data": {
      "text/html": [
       "<div>\n",
       "<style scoped>\n",
       "    .dataframe tbody tr th:only-of-type {\n",
       "        vertical-align: middle;\n",
       "    }\n",
       "\n",
       "    .dataframe tbody tr th {\n",
       "        vertical-align: top;\n",
       "    }\n",
       "\n",
       "    .dataframe thead th {\n",
       "        text-align: right;\n",
       "    }\n",
       "</style>\n",
       "<table border=\"1\" class=\"dataframe\">\n",
       "  <thead>\n",
       "    <tr style=\"text-align: right;\">\n",
       "      <th></th>\n",
       "      <th>CustomerID</th>\n",
       "      <th>Recency</th>\n",
       "      <th>Frequency</th>\n",
       "      <th>Monetary</th>\n",
       "    </tr>\n",
       "  </thead>\n",
       "  <tbody>\n",
       "    <tr>\n",
       "      <th>count</th>\n",
       "      <td>3920.000000</td>\n",
       "      <td>3920.000000</td>\n",
       "      <td>3920.000000</td>\n",
       "      <td>3920.000000</td>\n",
       "    </tr>\n",
       "    <tr>\n",
       "      <th>mean</th>\n",
       "      <td>15562.059694</td>\n",
       "      <td>91.742092</td>\n",
       "      <td>90.388010</td>\n",
       "      <td>1864.385601</td>\n",
       "    </tr>\n",
       "    <tr>\n",
       "      <th>std</th>\n",
       "      <td>1576.594671</td>\n",
       "      <td>99.533485</td>\n",
       "      <td>217.808385</td>\n",
       "      <td>7482.817477</td>\n",
       "    </tr>\n",
       "    <tr>\n",
       "      <th>min</th>\n",
       "      <td>12346.000000</td>\n",
       "      <td>0.000000</td>\n",
       "      <td>1.000000</td>\n",
       "      <td>3.750000</td>\n",
       "    </tr>\n",
       "    <tr>\n",
       "      <th>25%</th>\n",
       "      <td>14208.750000</td>\n",
       "      <td>17.000000</td>\n",
       "      <td>17.000000</td>\n",
       "      <td>300.280000</td>\n",
       "    </tr>\n",
       "    <tr>\n",
       "      <th>50%</th>\n",
       "      <td>15569.500000</td>\n",
       "      <td>50.000000</td>\n",
       "      <td>41.000000</td>\n",
       "      <td>652.280000</td>\n",
       "    </tr>\n",
       "    <tr>\n",
       "      <th>75%</th>\n",
       "      <td>16913.250000</td>\n",
       "      <td>142.000000</td>\n",
       "      <td>99.250000</td>\n",
       "      <td>1576.585000</td>\n",
       "    </tr>\n",
       "    <tr>\n",
       "      <th>max</th>\n",
       "      <td>18287.000000</td>\n",
       "      <td>373.000000</td>\n",
       "      <td>7847.000000</td>\n",
       "      <td>259657.300000</td>\n",
       "    </tr>\n",
       "  </tbody>\n",
       "</table>\n",
       "</div>"
      ],
      "text/plain": [
       "         CustomerID      Recency    Frequency       Monetary\n",
       "count   3920.000000  3920.000000  3920.000000    3920.000000\n",
       "mean   15562.059694    91.742092    90.388010    1864.385601\n",
       "std     1576.594671    99.533485   217.808385    7482.817477\n",
       "min    12346.000000     0.000000     1.000000       3.750000\n",
       "25%    14208.750000    17.000000    17.000000     300.280000\n",
       "50%    15569.500000    50.000000    41.000000     652.280000\n",
       "75%    16913.250000   142.000000    99.250000    1576.585000\n",
       "max    18287.000000   373.000000  7847.000000  259657.300000"
      ]
     },
     "execution_count": 142,
     "metadata": {},
     "output_type": "execute_result"
    }
   ],
   "source": [
    "RFM_Table.describe()    # before log\n",
    "#df_rfm_log.describe()   # after log"
   ]
  },
  {
   "cell_type": "markdown",
   "id": "27b2e78c",
   "metadata": {},
   "source": [
    "### Windsorizer\n",
    "\n",
    "To minimize the influence of outlier on the dataset"
   ]
  },
  {
   "cell_type": "code",
   "execution_count": 143,
   "id": "25b9ddc8",
   "metadata": {
    "ExecuteTime": {
     "end_time": "2021-08-23T00:11:25.681005Z",
     "start_time": "2021-08-23T00:11:25.658191Z"
    }
   },
   "outputs": [
    {
     "data": {
      "text/plain": [
       "Winsorizer(fold=2, tail='both', variables=['Recency', 'Frequency', 'Monetary'])"
      ]
     },
     "execution_count": 143,
     "metadata": {},
     "output_type": "execute_result"
    }
   ],
   "source": [
    "# capping the ends of the tails\n",
    "windsoriser = Winsorizer(tail='both', # cap left, right or both tails \n",
    "                          fold=2,\n",
    "                           variables=[ 'Recency', 'Frequency', 'Monetary']\n",
    "                        )\n",
    "windsoriser.fit(df_rfm_log)"
   ]
  },
  {
   "cell_type": "code",
   "execution_count": 144,
   "id": "8a1f71f7",
   "metadata": {
    "ExecuteTime": {
     "end_time": "2021-08-23T00:11:25.717459Z",
     "start_time": "2021-08-23T00:11:25.684479Z"
    }
   },
   "outputs": [
    {
     "data": {
      "text/html": [
       "<div>\n",
       "<style scoped>\n",
       "    .dataframe tbody tr th:only-of-type {\n",
       "        vertical-align: middle;\n",
       "    }\n",
       "\n",
       "    .dataframe tbody tr th {\n",
       "        vertical-align: top;\n",
       "    }\n",
       "\n",
       "    .dataframe thead th {\n",
       "        text-align: right;\n",
       "    }\n",
       "</style>\n",
       "<table border=\"1\" class=\"dataframe\">\n",
       "  <thead>\n",
       "    <tr style=\"text-align: right;\">\n",
       "      <th></th>\n",
       "      <th>CustomerID</th>\n",
       "      <th>Recency</th>\n",
       "      <th>Frequency</th>\n",
       "      <th>Monetary</th>\n",
       "    </tr>\n",
       "  </thead>\n",
       "  <tbody>\n",
       "    <tr>\n",
       "      <th>count</th>\n",
       "      <td>3920.000000</td>\n",
       "      <td>3920.000000</td>\n",
       "      <td>3920.000000</td>\n",
       "      <td>3920.000000</td>\n",
       "    </tr>\n",
       "    <tr>\n",
       "      <th>mean</th>\n",
       "      <td>9.647473</td>\n",
       "      <td>3.814659</td>\n",
       "      <td>3.722912</td>\n",
       "      <td>6.531629</td>\n",
       "    </tr>\n",
       "    <tr>\n",
       "      <th>std</th>\n",
       "      <td>0.102110</td>\n",
       "      <td>1.346136</td>\n",
       "      <td>1.215050</td>\n",
       "      <td>1.166840</td>\n",
       "    </tr>\n",
       "    <tr>\n",
       "      <th>min</th>\n",
       "      <td>9.421168</td>\n",
       "      <td>1.034064</td>\n",
       "      <td>1.201084</td>\n",
       "      <td>4.058839</td>\n",
       "    </tr>\n",
       "    <tr>\n",
       "      <th>25%</th>\n",
       "      <td>9.561684</td>\n",
       "      <td>2.890372</td>\n",
       "      <td>2.890372</td>\n",
       "      <td>5.708040</td>\n",
       "    </tr>\n",
       "    <tr>\n",
       "      <th>50%</th>\n",
       "      <td>9.653133</td>\n",
       "      <td>3.931826</td>\n",
       "      <td>3.737670</td>\n",
       "      <td>6.482006</td>\n",
       "    </tr>\n",
       "    <tr>\n",
       "      <th>75%</th>\n",
       "      <td>9.735912</td>\n",
       "      <td>4.962845</td>\n",
       "      <td>4.607658</td>\n",
       "      <td>7.363650</td>\n",
       "    </tr>\n",
       "    <tr>\n",
       "      <th>max</th>\n",
       "      <td>9.814000</td>\n",
       "      <td>5.924256</td>\n",
       "      <td>6.241635</td>\n",
       "      <td>9.033484</td>\n",
       "    </tr>\n",
       "  </tbody>\n",
       "</table>\n",
       "</div>"
      ],
      "text/plain": [
       "        CustomerID      Recency    Frequency     Monetary\n",
       "count  3920.000000  3920.000000  3920.000000  3920.000000\n",
       "mean      9.647473     3.814659     3.722912     6.531629\n",
       "std       0.102110     1.346136     1.215050     1.166840\n",
       "min       9.421168     1.034064     1.201084     4.058839\n",
       "25%       9.561684     2.890372     2.890372     5.708040\n",
       "50%       9.653133     3.931826     3.737670     6.482006\n",
       "75%       9.735912     4.962845     4.607658     7.363650\n",
       "max       9.814000     5.924256     6.241635     9.033484"
      ]
     },
     "execution_count": 144,
     "metadata": {},
     "output_type": "execute_result"
    }
   ],
   "source": [
    "# new variable for rfm dataframe\n",
    "df_rfm_log = windsoriser.transform(df_rfm_log)\n",
    "df_rfm_log.describe()"
   ]
  },
  {
   "cell_type": "markdown",
   "id": "ef07f944",
   "metadata": {},
   "source": [
    "### Standardizing \n",
    "\n",
    "Centring and scaling to standardize the data after the skewness is reduced."
   ]
  },
  {
   "cell_type": "code",
   "execution_count": 145,
   "id": "31dd408d",
   "metadata": {
    "ExecuteTime": {
     "end_time": "2021-08-23T00:11:25.749487Z",
     "start_time": "2021-08-23T00:11:25.721394Z"
    }
   },
   "outputs": [
    {
     "data": {
      "text/html": [
       "<div>\n",
       "<style scoped>\n",
       "    .dataframe tbody tr th:only-of-type {\n",
       "        vertical-align: middle;\n",
       "    }\n",
       "\n",
       "    .dataframe tbody tr th {\n",
       "        vertical-align: top;\n",
       "    }\n",
       "\n",
       "    .dataframe thead th {\n",
       "        text-align: right;\n",
       "    }\n",
       "</style>\n",
       "<table border=\"1\" class=\"dataframe\">\n",
       "  <thead>\n",
       "    <tr style=\"text-align: right;\">\n",
       "      <th></th>\n",
       "      <th>CustomerID</th>\n",
       "      <th>Recency</th>\n",
       "      <th>Frequency</th>\n",
       "      <th>Monetary</th>\n",
       "    </tr>\n",
       "  </thead>\n",
       "  <tbody>\n",
       "    <tr>\n",
       "      <th>0</th>\n",
       "      <td>-2.216570</td>\n",
       "      <td>1.465297</td>\n",
       "      <td>-2.075758</td>\n",
       "      <td>2.144403</td>\n",
       "    </tr>\n",
       "    <tr>\n",
       "      <th>1</th>\n",
       "      <td>-1.903521</td>\n",
       "      <td>-2.017919</td>\n",
       "      <td>0.758484</td>\n",
       "      <td>1.551824</td>\n",
       "    </tr>\n",
       "    <tr>\n",
       "      <th>2</th>\n",
       "      <td>-1.902753</td>\n",
       "      <td>-2.065875</td>\n",
       "      <td>2.073202</td>\n",
       "      <td>2.144403</td>\n",
       "    </tr>\n",
       "    <tr>\n",
       "      <th>3</th>\n",
       "      <td>-1.901985</td>\n",
       "      <td>-1.804182</td>\n",
       "      <td>1.296742</td>\n",
       "      <td>1.530081</td>\n",
       "    </tr>\n",
       "    <tr>\n",
       "      <th>4</th>\n",
       "      <td>-1.847594</td>\n",
       "      <td>-1.804182</td>\n",
       "      <td>0.305732</td>\n",
       "      <td>0.272393</td>\n",
       "    </tr>\n",
       "  </tbody>\n",
       "</table>\n",
       "</div>"
      ],
      "text/plain": [
       "   CustomerID   Recency  Frequency  Monetary\n",
       "0   -2.216570  1.465297  -2.075758  2.144403\n",
       "1   -1.903521 -2.017919   0.758484  1.551824\n",
       "2   -1.902753 -2.065875   2.073202  2.144403\n",
       "3   -1.901985 -1.804182   1.296742  1.530081\n",
       "4   -1.847594 -1.804182   0.305732  0.272393"
      ]
     },
     "execution_count": 145,
     "metadata": {},
     "output_type": "execute_result"
    }
   ],
   "source": [
    "# standardizing rf_rfm_log table\n",
    "scaler = StandardScaler()\n",
    "scaler.fit(df_rfm_log)\n",
    "RFM_Table_scaled = scaler.transform(df_rfm_log)\n",
    "\n",
    "RFM_Table_scaled = pd.DataFrame(RFM_Table_scaled, columns=df_rfm_log.columns)\n",
    "RFM_Table_scaled.head()"
   ]
  },
  {
   "cell_type": "code",
   "execution_count": 146,
   "id": "c4d97623",
   "metadata": {
    "ExecuteTime": {
     "end_time": "2021-08-23T00:11:25.774268Z",
     "start_time": "2021-08-23T00:11:25.751494Z"
    }
   },
   "outputs": [
    {
     "data": {
      "text/html": [
       "<div>\n",
       "<style scoped>\n",
       "    .dataframe tbody tr th:only-of-type {\n",
       "        vertical-align: middle;\n",
       "    }\n",
       "\n",
       "    .dataframe tbody tr th {\n",
       "        vertical-align: top;\n",
       "    }\n",
       "\n",
       "    .dataframe thead th {\n",
       "        text-align: right;\n",
       "    }\n",
       "</style>\n",
       "<table border=\"1\" class=\"dataframe\">\n",
       "  <thead>\n",
       "    <tr style=\"text-align: right;\">\n",
       "      <th></th>\n",
       "      <th>CustomerID</th>\n",
       "      <th>Recency</th>\n",
       "      <th>Frequency</th>\n",
       "      <th>Monetary</th>\n",
       "    </tr>\n",
       "  </thead>\n",
       "  <tbody>\n",
       "    <tr>\n",
       "      <th>count</th>\n",
       "      <td>3.920000e+03</td>\n",
       "      <td>3.920000e+03</td>\n",
       "      <td>3.920000e+03</td>\n",
       "      <td>3.920000e+03</td>\n",
       "    </tr>\n",
       "    <tr>\n",
       "      <th>mean</th>\n",
       "      <td>1.821310e-14</td>\n",
       "      <td>-2.084500e-17</td>\n",
       "      <td>-2.614689e-16</td>\n",
       "      <td>1.486339e-16</td>\n",
       "    </tr>\n",
       "    <tr>\n",
       "      <th>std</th>\n",
       "      <td>1.000128e+00</td>\n",
       "      <td>1.000128e+00</td>\n",
       "      <td>1.000128e+00</td>\n",
       "      <td>1.000128e+00</td>\n",
       "    </tr>\n",
       "    <tr>\n",
       "      <th>min</th>\n",
       "      <td>-2.216570e+00</td>\n",
       "      <td>-2.065875e+00</td>\n",
       "      <td>-2.075758e+00</td>\n",
       "      <td>-2.119490e+00</td>\n",
       "    </tr>\n",
       "    <tr>\n",
       "      <th>25%</th>\n",
       "      <td>-8.402751e-01</td>\n",
       "      <td>-6.867101e-01</td>\n",
       "      <td>-6.852780e-01</td>\n",
       "      <td>-7.059186e-01</td>\n",
       "    </tr>\n",
       "    <tr>\n",
       "      <th>50%</th>\n",
       "      <td>5.544184e-02</td>\n",
       "      <td>8.705020e-02</td>\n",
       "      <td>1.214684e-02</td>\n",
       "      <td>-4.253319e-02</td>\n",
       "    </tr>\n",
       "    <tr>\n",
       "      <th>75%</th>\n",
       "      <td>8.662257e-01</td>\n",
       "      <td>8.530578e-01</td>\n",
       "      <td>7.282484e-01</td>\n",
       "      <td>7.131466e-01</td>\n",
       "    </tr>\n",
       "    <tr>\n",
       "      <th>max</th>\n",
       "      <td>1.631076e+00</td>\n",
       "      <td>1.567349e+00</td>\n",
       "      <td>2.073202e+00</td>\n",
       "      <td>2.144403e+00</td>\n",
       "    </tr>\n",
       "  </tbody>\n",
       "</table>\n",
       "</div>"
      ],
      "text/plain": [
       "         CustomerID       Recency     Frequency      Monetary\n",
       "count  3.920000e+03  3.920000e+03  3.920000e+03  3.920000e+03\n",
       "mean   1.821310e-14 -2.084500e-17 -2.614689e-16  1.486339e-16\n",
       "std    1.000128e+00  1.000128e+00  1.000128e+00  1.000128e+00\n",
       "min   -2.216570e+00 -2.065875e+00 -2.075758e+00 -2.119490e+00\n",
       "25%   -8.402751e-01 -6.867101e-01 -6.852780e-01 -7.059186e-01\n",
       "50%    5.544184e-02  8.705020e-02  1.214684e-02 -4.253319e-02\n",
       "75%    8.662257e-01  8.530578e-01  7.282484e-01  7.131466e-01\n",
       "max    1.631076e+00  1.567349e+00  2.073202e+00  2.144403e+00"
      ]
     },
     "execution_count": 146,
     "metadata": {},
     "output_type": "execute_result"
    }
   ],
   "source": [
    "RFM_Table_scaled.describe()"
   ]
  },
  {
   "cell_type": "markdown",
   "id": "1b03970b",
   "metadata": {},
   "source": [
    "## Elbow Method"
   ]
  },
  {
   "cell_type": "code",
   "execution_count": 147,
   "id": "d23b2a2b",
   "metadata": {
    "ExecuteTime": {
     "end_time": "2021-08-23T00:11:28.324276Z",
     "start_time": "2021-08-23T00:11:25.776644Z"
    }
   },
   "outputs": [],
   "source": [
    "# initiate calculation\n",
    "from scipy.spatial.distance import cdist\n",
    "distortions = [] \n",
    "inertias = [] \n",
    "mapping1 = {} \n",
    "mapping2 = {} \n",
    "K = range(1,10) \n",
    "  \n",
    "for k in K: \n",
    "    #Building and fitting the model \n",
    "    kmeanModel = KMeans(n_clusters=k).fit(RFM_Table_scaled) \n",
    "    kmeanModel.fit(RFM_Table_scaled)     \n",
    "      \n",
    "    distortions.append(sum(np.min(cdist(RFM_Table_scaled, kmeanModel.cluster_centers_, \n",
    "                      'euclidean'),axis=1)) / RFM_Table_scaled.shape[0]) \n",
    "    inertias.append(kmeanModel.inertia_) \n",
    "  \n",
    "    mapping1[k] = sum(np.min(cdist(RFM_Table_scaled, kmeanModel.cluster_centers_, \n",
    "                 'euclidean'),axis=1)) / RFM_Table_scaled.shape[0] \n",
    "    mapping2[k] = kmeanModel.inertia_"
   ]
  },
  {
   "cell_type": "markdown",
   "id": "4b0575d7",
   "metadata": {},
   "source": [
    "### Using Distortion"
   ]
  },
  {
   "cell_type": "code",
   "execution_count": 148,
   "id": "4ab6ae4b",
   "metadata": {
    "ExecuteTime": {
     "end_time": "2021-08-23T00:11:28.525852Z",
     "start_time": "2021-08-23T00:11:28.326177Z"
    }
   },
   "outputs": [
    {
     "data": {
      "image/png": "[encoded data removed]",
      "text/plain": [
       "<Figure size 432x288 with 1 Axes>"
      ]
     },
     "metadata": {
      "needs_background": "light"
     },
     "output_type": "display_data"
    }
   ],
   "source": [
    "# elbow plot using distortions\n",
    "plt.plot(K, distortions, 'bx-') \n",
    "plt.xlabel('Values of K') \n",
    "plt.ylabel('Distortion') \n",
    "plt.title('The Elbow Method using Distortion') \n",
    "plt.show()"
   ]
  },
  {
   "cell_type": "markdown",
   "id": "3147e5ef",
   "metadata": {},
   "source": [
    "### Using Inertia"
   ]
  },
  {
   "cell_type": "code",
   "execution_count": 149,
   "id": "a43d1ffa",
   "metadata": {
    "ExecuteTime": {
     "end_time": "2021-08-23T00:11:28.662787Z",
     "start_time": "2021-08-23T00:11:28.527786Z"
    }
   },
   "outputs": [
    {
     "data": {
      "image/png": "[encoded data removed]",
      "text/plain": [
       "<Figure size 432x288 with 1 Axes>"
      ]
     },
     "metadata": {
      "needs_background": "light"
     },
     "output_type": "display_data"
    }
   ],
   "source": [
    "# elbow plot using inertia\n",
    "plt.plot(K, inertias, 'bx-') \n",
    "plt.xlabel('Values of K') \n",
    "plt.ylabel('Inertia') \n",
    "plt.title('The Elbow Method using Inertia') \n",
    "plt.show()"
   ]
  },
  {
   "cell_type": "markdown",
   "id": "806de125",
   "metadata": {},
   "source": [
    "Where inertia value becomes constants indicates optimal number of clusters. I am going to choose between 4 to 7."
   ]
  },
  {
   "cell_type": "markdown",
   "id": "ae4728f2",
   "metadata": {},
   "source": [
    "## Defining & Visualizing K-Means"
   ]
  },
  {
   "cell_type": "code",
   "execution_count": 150,
   "id": "fd06d821",
   "metadata": {
    "ExecuteTime": {
     "end_time": "2021-08-23T00:11:28.674697Z",
     "start_time": "2021-08-23T00:11:28.664874Z"
    }
   },
   "outputs": [],
   "source": [
    "# initiate kmeans\n",
    "def kmeans(normalised_df_rfm, clusters_number, original_df_rfm):\n",
    "    \n",
    "    kmeans = KMeans(n_clusters = clusters_number, random_state = 1)\n",
    "    kmeans.fit(normalised_df_rfm)\n",
    "\n",
    "    # Extract cluster labels\n",
    "    cluster_labels = kmeans.labels_\n",
    "        \n",
    "    # Create a cluster label column in original dataset\n",
    "    df_new = original_df_rfm.assign(Cluster = cluster_labels)\n",
    "    \n",
    "    # Initialise TSNE\n",
    "    model = TSNE(random_state=1)\n",
    "    transformed = model.fit_transform(df_new)\n",
    "    \n",
    "    # Plot t-SNE\n",
    "    plt.title('Flattened Graph of {} Clusters'.format(clusters_number))\n",
    "    sns.scatterplot(x=transformed[:,0], y=transformed[:,1], hue=cluster_labels, style=cluster_labels, palette=\"Set1\")\n",
    "    \n",
    "    return df_new"
   ]
  },
  {
   "cell_type": "code",
   "execution_count": 151,
   "id": "9bce2514",
   "metadata": {
    "ExecuteTime": {
     "end_time": "2021-08-23T00:12:51.755612Z",
     "start_time": "2021-08-23T00:11:28.677548Z"
    }
   },
   "outputs": [
    {
     "data": {
      "image/png": "[encoded data removed]",
      "text/plain": [
       "<Figure size 720x720 with 3 Axes>"
      ]
     },
     "metadata": {
      "needs_background": "light"
     },
     "output_type": "display_data"
    }
   ],
   "source": [
    "# kmean flattened graph\n",
    "plt.figure(figsize=(10, 10))\n",
    "\n",
    "plt.subplot(3, 1, 1)\n",
    "df_rfm_k3 = kmeans(RFM_Table_scaled, 3, RFM_Table)\n",
    "\n",
    "plt.subplot(3, 1, 2)\n",
    "df_rfm_k4 = kmeans(RFM_Table_scaled, 4, RFM_Table)\n",
    "\n",
    "plt.subplot(3, 1, 3)\n",
    "df_rfm_k5 = kmeans(RFM_Table_scaled, 5, RFM_Table)\n",
    "\n",
    "plt.tight_layout()"
   ]
  },
  {
   "cell_type": "code",
   "execution_count": 152,
   "id": "bce7512d",
   "metadata": {
    "ExecuteTime": {
     "end_time": "2021-08-23T00:12:53.291404Z",
     "start_time": "2021-08-23T00:12:51.757188Z"
    }
   },
   "outputs": [
    {
     "data": {
      "image/png": "[encoded data removed]",
      "text/plain": [
       "<Figure size 648x648 with 3 Axes>"
      ]
     },
     "metadata": {
      "needs_background": "light"
     },
     "output_type": "display_data"
    }
   ],
   "source": [
    "# using snake plot to see which cluster has the best separation\n",
    "\n",
    "def snake_plot(normalised_df_rfm, df_rfm_kmeans, df_rfm_original):\n",
    "\n",
    "    normalised_df_rfm = pd.DataFrame(normalised_df_rfm, \n",
    "                                       index=RFM_Table.index, \n",
    "                                       columns=RFM_Table.columns)\n",
    "    normalised_df_rfm['Cluster'] = df_rfm_kmeans['Cluster']\n",
    "\n",
    "    # Melt data into long format\n",
    "    df_melt = pd.melt(normalised_df_rfm.reset_index(), \n",
    "                        id_vars=['CustomerID', 'Cluster'],\n",
    "                        value_vars=['Recency', 'Frequency', 'Monetary'], \n",
    "                        var_name='Metric', \n",
    "                        value_name='Value')\n",
    "\n",
    "    plt.xlabel('Metric')\n",
    "    plt.ylabel('Value')\n",
    "    sns.pointplot(data=df_melt, x='Metric', y='Value', hue='Cluster')\n",
    "    \n",
    "    return\n",
    "\n",
    "plt.figure(figsize=(9, 9))\n",
    "\n",
    "plt.subplot(3, 1, 1)\n",
    "plt.title('Snake Plot of K-Means = 3')\n",
    "snake_plot(RFM_Table_scaled, df_rfm_k3, RFM_Table)\n",
    "\n",
    "plt.subplot(3, 1, 2)\n",
    "plt.title('Snake Plot of K-Means = 4')\n",
    "snake_plot(RFM_Table_scaled, df_rfm_k4, RFM_Table)\n",
    "\n",
    "plt.subplot(3, 1, 3)\n",
    "plt.title('Snake Plot of K-Means = 5')\n",
    "snake_plot(RFM_Table_scaled, df_rfm_k5, RFM_Table)\n",
    "\n",
    "plt.tight_layout()"
   ]
  },
  {
   "cell_type": "markdown",
   "id": "c74fda2e",
   "metadata": {},
   "source": [
    "4 clusters seem to have the best degree of seperation. Number of clusters also depends on how Windsor wants to segment customers."
   ]
  },
  {
   "cell_type": "markdown",
   "id": "e3de30ac",
   "metadata": {},
   "source": [
    "## Interpreting Cluster Result"
   ]
  },
  {
   "cell_type": "code",
   "execution_count": 153,
   "id": "d9a883a0",
   "metadata": {
    "ExecuteTime": {
     "end_time": "2021-08-23T00:12:53.433681Z",
     "start_time": "2021-08-23T00:12:53.293608Z"
    }
   },
   "outputs": [
    {
     "data": {
      "text/html": [
       "<div>\n",
       "<style scoped>\n",
       "    .dataframe tbody tr th:only-of-type {\n",
       "        vertical-align: middle;\n",
       "    }\n",
       "\n",
       "    .dataframe tbody tr th {\n",
       "        vertical-align: top;\n",
       "    }\n",
       "\n",
       "    .dataframe thead tr th {\n",
       "        text-align: left;\n",
       "    }\n",
       "\n",
       "    .dataframe thead tr:last-of-type th {\n",
       "        text-align: right;\n",
       "    }\n",
       "</style>\n",
       "<table border=\"1\" class=\"dataframe\">\n",
       "  <thead>\n",
       "    <tr>\n",
       "      <th></th>\n",
       "      <th>Recency</th>\n",
       "      <th>Frequency</th>\n",
       "      <th colspan=\"2\" halign=\"left\">Monetary</th>\n",
       "    </tr>\n",
       "    <tr>\n",
       "      <th></th>\n",
       "      <th>mean</th>\n",
       "      <th>mean</th>\n",
       "      <th>mean</th>\n",
       "      <th>count</th>\n",
       "    </tr>\n",
       "    <tr>\n",
       "      <th>Cluster</th>\n",
       "      <th></th>\n",
       "      <th></th>\n",
       "      <th></th>\n",
       "      <th></th>\n",
       "    </tr>\n",
       "  </thead>\n",
       "  <tbody>\n",
       "    <tr>\n",
       "      <th>0</th>\n",
       "      <td>18.0</td>\n",
       "      <td>254.0</td>\n",
       "      <td>5775.0</td>\n",
       "      <td>876</td>\n",
       "    </tr>\n",
       "    <tr>\n",
       "      <th>1</th>\n",
       "      <td>180.0</td>\n",
       "      <td>15.0</td>\n",
       "      <td>275.0</td>\n",
       "      <td>912</td>\n",
       "    </tr>\n",
       "    <tr>\n",
       "      <th>2</th>\n",
       "      <td>115.0</td>\n",
       "      <td>32.0</td>\n",
       "      <td>703.0</td>\n",
       "      <td>1073</td>\n",
       "    </tr>\n",
       "    <tr>\n",
       "      <th>3</th>\n",
       "      <td>53.0</td>\n",
       "      <td>79.0</td>\n",
       "      <td>1175.0</td>\n",
       "      <td>1059</td>\n",
       "    </tr>\n",
       "  </tbody>\n",
       "</table>\n",
       "</div>"
      ],
      "text/plain": [
       "        Recency Frequency Monetary      \n",
       "           mean      mean     mean count\n",
       "Cluster                                 \n",
       "0          18.0     254.0   5775.0   876\n",
       "1         180.0      15.0    275.0   912\n",
       "2         115.0      32.0    703.0  1073\n",
       "3          53.0      79.0   1175.0  1059"
      ]
     },
     "execution_count": 153,
     "metadata": {},
     "output_type": "execute_result"
    }
   ],
   "source": [
    "# creating cluster table for 4 clusters\n",
    "def rfm_values(df):\n",
    "\n",
    "    df_new = df.groupby(['Cluster']).agg({\n",
    "        'Recency': 'mean',\n",
    "        'Frequency': 'mean',\n",
    "        'Monetary': ['mean', 'count']\n",
    "    }).round(0)\n",
    "    \n",
    "    return df_new\n",
    "\n",
    "rfm_values(df_rfm_k4)"
   ]
  },
  {
   "cell_type": "markdown",
   "id": "3ff6c8df",
   "metadata": {},
   "source": [
    "Cluster 0: Best customers\n",
    "\n",
    "Cluster 1: Passerby customers, last purchase is long ago, spend little, and not frequency\n",
    "\n",
    "Cluster 2: Likely to churn, haven't purchase in a while, but used to purchase frequently and spend a lot\n",
    "\n",
    "Cluster 3: Very loyal customers, spend a lot"
   ]
  },
  {
   "cell_type": "markdown",
   "id": "9bb9a20d",
   "metadata": {},
   "source": [
    "# Silhouette Score\n",
    "\n",
    "Validating Kmeans, measuring the degree of seperation between clusters and comparing it with the plots to make sure kmeans works as it should."
   ]
  },
  {
   "cell_type": "code",
   "execution_count": 154,
   "id": "d40e4099",
   "metadata": {
    "ExecuteTime": {
     "end_time": "2021-08-23T00:12:53.451918Z",
     "start_time": "2021-08-23T00:12:53.442553Z"
    }
   },
   "outputs": [],
   "source": [
    "# Import packages for silhouette score\n",
    "from sklearn.metrics import silhouette_score"
   ]
  },
  {
   "cell_type": "code",
   "execution_count": 163,
   "id": "b0e18cda",
   "metadata": {
    "ExecuteTime": {
     "end_time": "2021-08-23T00:20:26.183608Z",
     "start_time": "2021-08-23T00:20:25.804863Z"
    }
   },
   "outputs": [
    {
     "name": "stdout",
     "output_type": "stream",
     "text": [
      "Silhouette Score(n=2): 0.31400077841894436\n"
     ]
    }
   ],
   "source": [
    "KMean= KMeans(n_clusters=2)\n",
    "KMean.fit(RFM_Table_scaled)\n",
    "label=KMean.predict(RFM_Table_scaled)\n",
    "\n",
    "print(f'Silhouette Score(n=2): {silhouette_score(RFM_Table_scaled, label)}')"
   ]
  },
  {
   "cell_type": "code",
   "execution_count": 160,
   "id": "164cfa15",
   "metadata": {
    "ExecuteTime": {
     "end_time": "2021-08-23T00:18:41.965226Z",
     "start_time": "2021-08-23T00:18:41.540833Z"
    }
   },
   "outputs": [
    {
     "name": "stdout",
     "output_type": "stream",
     "text": [
      "Silhouette Score(n=3): 0.26603821875798506\n"
     ]
    }
   ],
   "source": [
    "KMean= KMeans(n_clusters=3)\n",
    "KMean.fit(RFM_Table_scaled)\n",
    "label=KMean.predict(RFM_Table_scaled)\n",
    "\n",
    "print(f'Silhouette Score(n=3): {silhouette_score(RFM_Table_scaled, label)}')"
   ]
  },
  {
   "cell_type": "code",
   "execution_count": 161,
   "id": "f7fd00a4",
   "metadata": {
    "ExecuteTime": {
     "end_time": "2021-08-23T00:18:43.271929Z",
     "start_time": "2021-08-23T00:18:42.923006Z"
    }
   },
   "outputs": [
    {
     "name": "stdout",
     "output_type": "stream",
     "text": [
      "Silhouette Score(n=4): 0.24070200942440814\n"
     ]
    }
   ],
   "source": [
    "KMean= KMeans(n_clusters=4)\n",
    "KMean.fit(RFM_Table_scaled)\n",
    "label=KMean.predict(RFM_Table_scaled)\n",
    "\n",
    "print(f'Silhouette Score(n=4): {silhouette_score(RFM_Table_scaled, label)}')"
   ]
  },
  {
   "cell_type": "code",
   "execution_count": 162,
   "id": "a5d847d7",
   "metadata": {
    "ExecuteTime": {
     "end_time": "2021-08-23T00:18:44.923503Z",
     "start_time": "2021-08-23T00:18:44.441689Z"
    }
   },
   "outputs": [
    {
     "name": "stdout",
     "output_type": "stream",
     "text": [
      "Silhouette Score(n=5): 0.2286031501966664\n"
     ]
    }
   ],
   "source": [
    "KMean= KMeans(n_clusters=5)\n",
    "KMean.fit(RFM_Table_scaled)\n",
    "label=KMean.predict(RFM_Table_scaled)\n",
    "\n",
    "print(f'Silhouette Score(n=5): {silhouette_score(RFM_Table_scaled, label)}')"
   ]
  },
  {
   "cell_type": "code",
   "execution_count": null,
   "id": "18bc0cd6",
   "metadata": {},
   "outputs": [],
   "source": []
  }
 ],
 "metadata": {
  "kernelspec": {
   "display_name": "kpi",
   "language": "python",
   "name": "kpi"
  },
  "language_info": {
   "codemirror_mode": {
    "name": "ipython",
    "version": 3
   },
   "file_extension": ".py",
   "mimetype": "text/x-python",
   "name": "python",
   "nbconvert_exporter": "python",
   "pygments_lexer": "ipython3",
   "version": "3.8.5"
  },
  "toc": {
   "base_numbering": 1,
   "nav_menu": {},
   "number_sections": true,
   "sideBar": true,
   "skip_h1_title": false,
   "title_cell": "Table of Contents",
   "title_sidebar": "Contents",
   "toc_cell": false,
   "toc_position": {},
   "toc_section_display": true,
   "toc_window_display": true
  }
 },
 "nbformat": 4,
 "nbformat_minor": 5
}
